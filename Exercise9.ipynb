{
  "cells": [
    {
      "cell_type": "markdown",
      "metadata": {
        "id": "-2W919d2ZXp7"
      },
      "source": [
        "# Exercise 9: Mixed effects"
      ]
    },
    {
      "cell_type": "markdown",
      "metadata": {
        "id": "L4nOzVhyZXqK"
      },
      "source": [
        "This homework assignment is designed to give you practice fitting and interpreting mixed effects models. \n",
        "\n",
        "We will be using the **LexicalData.csv** and **Items.csv** files from the *Homework/lexDat* folder in the class GitHub repository again. \n",
        "\n",
        "This data is a subset of the [English Lexicon Project database](https://elexicon.wustl.edu/). It provides the reaction times (in milliseconds) of many subjects as they are presented with letter strings and asked to decide, as quickly and as accurately as possible, whether the letter string is a word or not. The **Items.csv** provides characteristics of the words used, namely frequency (how common is this word?) and length (how many letters?). Unlike in the previous homework, there isn't any missing data in the **LexicalData.csv** file. \n",
        "\n",
        "*Data courtesy of Balota, D.A., Yap, M.J., Cortese, M.J., Hutchison, K.A., Kessler, B., Loftis, B., Neely, J.H., Nelson, D.L., Simpson, G.B., & Treiman, R. (2007). The English Lexicon Project. Behavior Research Methods, 39, 445-459.*"
      ]
    },
    {
      "cell_type": "markdown",
      "metadata": {
        "id": "9DsyBTB6ZXqN"
      },
      "source": [
        "---\n",
        "## 1. Loading and formatting the data (1 point)\n",
        "\n",
        "Load in data from the **LexicalData.csv** and **Items.csv** files. As in the previous homeworks, remove the commas from the reaction times and convert them from strings to numbers. Use `left_join` to add word characteristics `Length` and `Log_Freq_Hal` from **Items** to **LexicalData**. \n",
        "\n",
        "*Note: the `Freq_HAL` variable in **Items.csv** has a similar formatting issue, using string values with commas. We're not going to worry about fixing this since we're only using `Log_Freq_HAL`, which is the natural log transformation of `Freq_HAL`, in this homework.*"
      ]
    },
    {
      "cell_type": "code",
      "execution_count": 33,
      "metadata": {
        "id": "UnBVazYfZXqP",
        "colab": {
          "base_uri": "https://localhost:8080/",
          "height": 286
        },
        "outputId": "4482479c-a253-49c8-ae09-6ceb326e1f84"
      },
      "outputs": [
        {
          "output_type": "display_data",
          "data": {
            "text/html": [
              "<table class=\"dataframe\">\n",
              "<caption>A data.frame: 6 × 9</caption>\n",
              "<thead>\n",
              "\t<tr><th></th><th scope=col>Sub_ID</th><th scope=col>Trial</th><th scope=col>Type</th><th scope=col>D_RT</th><th scope=col>D_Word</th><th scope=col>Outlier</th><th scope=col>D_Zscore</th><th scope=col>Length</th><th scope=col>Log_Freq_HAL</th></tr>\n",
              "\t<tr><th></th><th scope=col>&lt;int&gt;</th><th scope=col>&lt;int&gt;</th><th scope=col>&lt;int&gt;</th><th scope=col>&lt;dbl&gt;</th><th scope=col>&lt;chr&gt;</th><th scope=col>&lt;chr&gt;</th><th scope=col>&lt;dbl&gt;</th><th scope=col>&lt;int&gt;</th><th scope=col>&lt;dbl&gt;</th></tr>\n",
              "</thead>\n",
              "<tbody>\n",
              "\t<tr><th scope=row>1</th><td>157</td><td>1</td><td>1</td><td> 710</td><td>browse     </td><td>false</td><td>-0.437</td><td> 6</td><td>8.856</td></tr>\n",
              "\t<tr><th scope=row>2</th><td> 67</td><td>1</td><td>1</td><td>1094</td><td>refrigerant</td><td>false</td><td> 0.825</td><td>11</td><td>4.644</td></tr>\n",
              "\t<tr><th scope=row>3</th><td>120</td><td>1</td><td>1</td><td> 587</td><td>gaining    </td><td>false</td><td>-0.645</td><td> 7</td><td>8.304</td></tr>\n",
              "\t<tr><th scope=row>4</th><td> 21</td><td>1</td><td>1</td><td> 984</td><td>cheerless  </td><td>false</td><td> 0.025</td><td> 9</td><td>2.639</td></tr>\n",
              "\t<tr><th scope=row>5</th><td>236</td><td>1</td><td>1</td><td> 577</td><td>pattered   </td><td>false</td><td>-0.763</td><td> 8</td><td>1.386</td></tr>\n",
              "\t<tr><th scope=row>6</th><td>236</td><td>2</td><td>1</td><td> 715</td><td>conjures   </td><td>false</td><td>-0.364</td><td> 8</td><td>5.268</td></tr>\n",
              "</tbody>\n",
              "</table>\n"
            ],
            "text/markdown": "\nA data.frame: 6 × 9\n\n| <!--/--> | Sub_ID &lt;int&gt; | Trial &lt;int&gt; | Type &lt;int&gt; | D_RT &lt;dbl&gt; | D_Word &lt;chr&gt; | Outlier &lt;chr&gt; | D_Zscore &lt;dbl&gt; | Length &lt;int&gt; | Log_Freq_HAL &lt;dbl&gt; |\n|---|---|---|---|---|---|---|---|---|---|\n| 1 | 157 | 1 | 1 |  710 | browse      | false | -0.437 |  6 | 8.856 |\n| 2 |  67 | 1 | 1 | 1094 | refrigerant | false |  0.825 | 11 | 4.644 |\n| 3 | 120 | 1 | 1 |  587 | gaining     | false | -0.645 |  7 | 8.304 |\n| 4 |  21 | 1 | 1 |  984 | cheerless   | false |  0.025 |  9 | 2.639 |\n| 5 | 236 | 1 | 1 |  577 | pattered    | false | -0.763 |  8 | 1.386 |\n| 6 | 236 | 2 | 1 |  715 | conjures    | false | -0.364 |  8 | 5.268 |\n\n",
            "text/latex": "A data.frame: 6 × 9\n\\begin{tabular}{r|lllllllll}\n  & Sub\\_ID & Trial & Type & D\\_RT & D\\_Word & Outlier & D\\_Zscore & Length & Log\\_Freq\\_HAL\\\\\n  & <int> & <int> & <int> & <dbl> & <chr> & <chr> & <dbl> & <int> & <dbl>\\\\\n\\hline\n\t1 & 157 & 1 & 1 &  710 & browse      & false & -0.437 &  6 & 8.856\\\\\n\t2 &  67 & 1 & 1 & 1094 & refrigerant & false &  0.825 & 11 & 4.644\\\\\n\t3 & 120 & 1 & 1 &  587 & gaining     & false & -0.645 &  7 & 8.304\\\\\n\t4 &  21 & 1 & 1 &  984 & cheerless   & false &  0.025 &  9 & 2.639\\\\\n\t5 & 236 & 1 & 1 &  577 & pattered    & false & -0.763 &  8 & 1.386\\\\\n\t6 & 236 & 2 & 1 &  715 & conjures    & false & -0.364 &  8 & 5.268\\\\\n\\end{tabular}\n",
            "text/plain": [
              "  Sub_ID Trial Type D_RT D_Word      Outlier D_Zscore Length Log_Freq_HAL\n",
              "1 157    1     1     710 browse      false   -0.437    6     8.856       \n",
              "2  67    1     1    1094 refrigerant false    0.825   11     4.644       \n",
              "3 120    1     1     587 gaining     false   -0.645    7     8.304       \n",
              "4  21    1     1     984 cheerless   false    0.025    9     2.639       \n",
              "5 236    1     1     577 pattered    false   -0.763    8     1.386       \n",
              "6 236    2     1     715 conjures    false   -0.364    8     5.268       "
            ]
          },
          "metadata": {}
        }
      ],
      "source": [
        "# WRITE YOUR CODE HERE\n",
        "library(tidyverse)\n",
        "\n",
        "# read in lexDat and item files\n",
        "lexDat <- read.csv('LexicalData.csv')\n",
        "items <- read.csv('Items.csv')\n",
        "\n",
        "# select variables of interest in items and set key for left_join()\n",
        "items_subset <- items%>%\n",
        "  select(Word,Length, Log_Freq_HAL) %>%\n",
        "  rename(D_Word = Word)\n",
        "\n",
        "# join datasets together\n",
        "lexDat_joined <- lexDat %>%\n",
        " left_join(items_subset, by = 'D_Word')\n",
        "\n",
        "# remove commas from D_RT and convert strings to numbers\n",
        "lexDat_cleansed_and_merged <- lexDat_joined %>%\n",
        "  mutate(D_RT = as.numeric(gsub(',','',D_RT))) %>% # Remove commas\n",
        "  filter(!is.na(D_RT), D_RT >= 0) # Remove NAs and negative RTs\n",
        "\n",
        "head(lexDat_cleansed_and_merged)"
      ]
    },
    {
      "cell_type": "markdown",
      "metadata": {
        "id": "bXy81Viishk1"
      },
      "source": [
        "---\n",
        "## 2. Model fitting (4 points)"
      ]
    },
    {
      "cell_type": "markdown",
      "metadata": {
        "id": "H7_gEgkbzFtU"
      },
      "source": [
        "First, fit a linear model with `Log_Freq_HAL` and `Length` as predictors, and `D_RT` as the output. Include an interaction term. Use `summary()` to look at the model output. "
      ]
    },
    {
      "cell_type": "code",
      "execution_count": 34,
      "metadata": {
        "id": "OIOIg-GRz4rN",
        "colab": {
          "base_uri": "https://localhost:8080/",
          "height": 364
        },
        "outputId": "bc24f282-4a34-48ed-897c-1859442a18b9"
      },
      "outputs": [
        {
          "output_type": "display_data",
          "data": {
            "text/plain": [
              "\n",
              "Call:\n",
              "lm(formula = D_RT ~ Log_Freq_HAL * Length, data = lexDat_cleansed_and_merged)\n",
              "\n",
              "Residuals:\n",
              "     Min       1Q   Median       3Q      Max \n",
              "-1118.01  -205.23   -86.95    90.77  3147.07 \n",
              "\n",
              "Coefficients:\n",
              "                    Estimate Std. Error t value Pr(>|t|)    \n",
              "(Intercept)         610.1903    14.6678  41.601  < 2e-16 ***\n",
              "Log_Freq_HAL         -6.0239     1.9678  -3.061  0.00221 ** \n",
              "Length               47.7531     1.6368  29.175  < 2e-16 ***\n",
              "Log_Freq_HAL:Length  -2.9421     0.2348 -12.528  < 2e-16 ***\n",
              "---\n",
              "Signif. codes:  0 ‘***’ 0.001 ‘**’ 0.01 ‘*’ 0.05 ‘.’ 0.1 ‘ ’ 1\n",
              "\n",
              "Residual standard error: 359.1 on 62606 degrees of freedom\n",
              "Multiple R-squared:  0.09473,\tAdjusted R-squared:  0.09469 \n",
              "F-statistic:  2184 on 3 and 62606 DF,  p-value: < 2.2e-16\n"
            ]
          },
          "metadata": {}
        }
      ],
      "source": [
        "# WRITE YOUR CODE HERE\n",
        "fixed_mdl <- lm(D_RT ~ Log_Freq_HAL * Length, data = lexDat_cleansed_and_merged)\n",
        "summary(fixed_mdl)"
      ]
    },
    {
      "cell_type": "markdown",
      "metadata": {
        "id": "Pbeg_JrS3mwU"
      },
      "source": [
        "Now, install `lme4` using `install.packages()` and then load the library. "
      ]
    },
    {
      "cell_type": "code",
      "execution_count": 25,
      "metadata": {
        "id": "hFSnvvb_re2O",
        "colab": {
          "base_uri": "https://localhost:8080/"
        },
        "outputId": "c4660604-0c84-475f-9d88-330db448f8dc"
      },
      "outputs": [
        {
          "output_type": "stream",
          "name": "stderr",
          "text": [
            "Loading required package: Matrix\n",
            "\n",
            "\n",
            "Attaching package: ‘Matrix’\n",
            "\n",
            "\n",
            "The following objects are masked from ‘package:tidyr’:\n",
            "\n",
            "    expand, pack, unpack\n",
            "\n",
            "\n"
          ]
        }
      ],
      "source": [
        "# WRITE YOUR CODE HERE\n",
        "#install.packages('lme4')\n",
        "library(lme4)"
      ]
    },
    {
      "cell_type": "markdown",
      "metadata": {
        "id": "xZJns7xr41nW"
      },
      "source": [
        "Now fit a mixed effects model that includes the same predictors as the linear model above, as well as random intercepts for `Sub_ID` (i.e., cases where subject ID shifts the RT mean). Use `summary()` to look at the model output. "
      ]
    },
    {
      "cell_type": "code",
      "execution_count": 35,
      "metadata": {
        "id": "8kjwT0je57N7",
        "colab": {
          "base_uri": "https://localhost:8080/",
          "height": 503
        },
        "outputId": "d6604c62-14dd-4dac-a2c5-163841147f65"
      },
      "outputs": [
        {
          "output_type": "display_data",
          "data": {
            "text/plain": [
              "Linear mixed model fit by REML ['lmerMod']\n",
              "Formula: D_RT ~ Log_Freq_HAL * Length + (1 | Sub_ID)\n",
              "   Data: lexDat_cleansed_and_merged\n",
              "\n",
              "REML criterion at convergence: 888235.6\n",
              "\n",
              "Scaled residuals: \n",
              "    Min      1Q  Median      3Q     Max \n",
              "-4.5058 -0.5472 -0.1568  0.3103 10.7381 \n",
              "\n",
              "Random effects:\n",
              " Groups   Name        Variance Std.Dev.\n",
              " Sub_ID   (Intercept) 46333    215.3   \n",
              " Residual             82978    288.1   \n",
              "Number of obs: 62610, groups:  Sub_ID, 299\n",
              "\n",
              "Fixed effects:\n",
              "                    Estimate Std. Error t value\n",
              "(Intercept)         616.8445    17.1522  35.963\n",
              "Log_Freq_HAL         -7.4374     1.5830  -4.698\n",
              "Length               47.7477     1.3162  36.277\n",
              "Log_Freq_HAL:Length  -2.8778     0.1888 -15.239\n",
              "\n",
              "Correlation of Fixed Effects:\n",
              "            (Intr) Lg_F_HAL Length\n",
              "Log_Frq_HAL -0.645                \n",
              "Length      -0.656  0.917         \n",
              "Lg_Fr_HAL:L  0.582 -0.942   -0.923"
            ]
          },
          "metadata": {}
        }
      ],
      "source": [
        "# WRITE YOUR CODE HERE\n",
        "mixed_mdl = lmer(D_RT ~ Log_Freq_HAL * Length + (1 | Sub_ID), data=lexDat_cleansed_and_merged)\n",
        "\n",
        "summary(mixed_mdl)"
      ]
    },
    {
      "cell_type": "markdown",
      "metadata": {
        "id": "Vfb_ovk7JFGt"
      },
      "source": [
        "---\n",
        "## 3. Model assessment (4 points)"
      ]
    },
    {
      "cell_type": "markdown",
      "metadata": {
        "id": "r7B1Ux6RHGjy"
      },
      "source": [
        "Compare the three t-values for the fixed effects and the mixed effects models. How do they differ, and why? "
      ]
    },
    {
      "cell_type": "markdown",
      "metadata": {
        "id": "kCi5gYOeHo6m"
      },
      "source": [
        "> The mixed effects model increases the magnitude of t-values for both the main fixed effects as well as the interaction term. The directionality of the effects remain unchanged (that is, lower Log_Freq_HAL is associated with increased reaction times while longer length is also associated with increased reaction times). This suggests that accounting for the role of subjects strengthens the effects of Log_Freq_HAL and Length on reaction times. "
      ]
    },
    {
      "cell_type": "markdown",
      "metadata": {
        "id": "hukKG1AbGqXM"
      },
      "source": [
        "Use the Aikeke Information Criterion (AIC) to compare these two models. Which one is better? "
      ]
    },
    {
      "cell_type": "code",
      "execution_count": 36,
      "metadata": {
        "id": "KMDg8qb5FhJz",
        "colab": {
          "base_uri": "https://localhost:8080/",
          "height": 178
        },
        "outputId": "ce0f3df0-1d27-40c5-da06-d9c2533329a9"
      },
      "outputs": [
        {
          "output_type": "display_data",
          "data": {
            "text/html": [
              "<table class=\"dataframe\">\n",
              "<caption>A data.frame: 2 × 2</caption>\n",
              "<thead>\n",
              "\t<tr><th></th><th scope=col>df</th><th scope=col>AIC</th></tr>\n",
              "\t<tr><th></th><th scope=col>&lt;dbl&gt;</th><th scope=col>&lt;dbl&gt;</th></tr>\n",
              "</thead>\n",
              "<tbody>\n",
              "\t<tr><th scope=row>fixed_mdl</th><td>5</td><td>914436.4</td></tr>\n",
              "\t<tr><th scope=row>mixed_mdl</th><td>6</td><td>888247.6</td></tr>\n",
              "</tbody>\n",
              "</table>\n"
            ],
            "text/markdown": "\nA data.frame: 2 × 2\n\n| <!--/--> | df &lt;dbl&gt; | AIC &lt;dbl&gt; |\n|---|---|---|\n| fixed_mdl | 5 | 914436.4 |\n| mixed_mdl | 6 | 888247.6 |\n\n",
            "text/latex": "A data.frame: 2 × 2\n\\begin{tabular}{r|ll}\n  & df & AIC\\\\\n  & <dbl> & <dbl>\\\\\n\\hline\n\tfixed\\_mdl & 5 & 914436.4\\\\\n\tmixed\\_mdl & 6 & 888247.6\\\\\n\\end{tabular}\n",
            "text/plain": [
              "          df AIC     \n",
              "fixed_mdl 5  914436.4\n",
              "mixed_mdl 6  888247.6"
            ]
          },
          "metadata": {}
        },
        {
          "output_type": "display_data",
          "data": {
            "text/html": [
              "-26188.8233715765"
            ],
            "text/markdown": "-26188.8233715765",
            "text/latex": "-26188.8233715765",
            "text/plain": [
              "[1] -26188.82"
            ]
          },
          "metadata": {}
        }
      ],
      "source": [
        "# WRITE YOUR CODE HERE\n",
        "ic = AIC(fixed_mdl, mixed_mdl)\n",
        "ic\n",
        "diff(ic$AIC)"
      ]
    },
    {
      "cell_type": "markdown",
      "metadata": {
        "id": "T4oTfsYmIvYt"
      },
      "source": [
        "> Based on the results of the AIC comparison, the mixed effects model provides a better fit to the data than the fixed effects model. This is represented by a higher proprtion of explained variance even when accounting for the slightly increased model complexity."
      ]
    },
    {
      "cell_type": "markdown",
      "metadata": {
        "id": "ARF2PF2yLXkZ"
      },
      "source": [
        "---\n",
        "##  4. Reflection (1 point)\n",
        "\n",
        "What other random effects could be controlled for in this data set? \n",
        "\n",
        "> Beyond the effect of Subject_ID on reaction times, we could also control for Trial in order to see if order effects play a role in the observed relationship between Length, Log_Freq_HAL and reaction time. "
      ]
    },
    {
      "cell_type": "markdown",
      "metadata": {
        "id": "C4MPECMmZXqe"
      },
      "source": [
        "**DUE:** 5pm EST, March 15, 2023"
      ]
    },
    {
      "cell_type": "markdown",
      "metadata": {
        "id": "r9GUofXN4BVy"
      },
      "source": [
        "**IMPORTANT** Did you collaborate with anyone on this assignment? If so, list their names here. \n",
        "> *Someone's Name*"
      ]
    }
  ],
  "metadata": {
    "colab": {
      "provenance": []
    },
    "kernelspec": {
      "display_name": "R",
      "language": "R",
      "name": "ir"
    },
    "language_info": {
      "codemirror_mode": "r",
      "file_extension": ".r",
      "mimetype": "text/x-r-source",
      "name": "R",
      "pygments_lexer": "r",
      "version": "4.2.0"
    }
  },
  "nbformat": 4,
  "nbformat_minor": 0
}