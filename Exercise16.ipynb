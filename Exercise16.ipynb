{
  "cells": [
    {
      "cell_type": "markdown",
      "metadata": {
        "id": "614c6a4a"
      },
      "source": [
        "# Exercise 16: Model selection"
      ],
      "id": "614c6a4a"
    },
    {
      "cell_type": "markdown",
      "metadata": {
        "id": "7e861f62"
      },
      "source": [
        "This homework is designed to give you practice implementing model selection techniques, including best subset selection and forward/backward stepwise selection.\n",
        "\n",
        "You won't need to load in any data for this homework, we will be simulating our own."
      ],
      "id": "7e861f62"
    },
    {
      "cell_type": "markdown",
      "metadata": {
        "id": "b065256e"
      },
      "source": [
        "---\n",
        "## 1. Best subset selection (4 points)"
      ],
      "id": "b065256e"
    },
    {
      "cell_type": "markdown",
      "metadata": {
        "id": "bfe412c5"
      },
      "source": [
        "In this question, we will first generate simulated data, and then use it to perform best subset selection.\n",
        "\n",
        "a) Use `rnorm()` to generate a dataset including a predictor $X$ of length $n = 100$ and a noise vector $\\epsilon$ of length $n = 100$. Generate data for a response variable $Y$ of length $n = 100$ according to the model\n",
        "\n",
        "$Y = \\beta_0 + \\beta_1X + \\beta_2X^2 + \\beta_3X^3 + \\epsilon$\n",
        "\n",
        "where $\\beta_0$, $\\beta_1$, $\\beta_2$, and $\\beta_3$ are constants of your choice.\n"
      ],
      "id": "bfe412c5"
    },
    {
      "cell_type": "code",
      "execution_count": 20,
      "metadata": {
        "id": "82a01047",
        "colab": {
          "base_uri": "https://localhost:8080/",
          "height": 286
        },
        "outputId": "a6affc15-dc08-4be6-e6f5-32808e28d601"
      },
      "outputs": [
        {
          "output_type": "display_data",
          "data": {
            "text/html": [
              "<table class=\"dataframe\">\n",
              "<caption>A data.frame: 6 × 2</caption>\n",
              "<thead>\n",
              "\t<tr><th></th><th scope=col>Y</th><th scope=col>X</th></tr>\n",
              "\t<tr><th></th><th scope=col>&lt;dbl&gt;</th><th scope=col>&lt;dbl&gt;</th></tr>\n",
              "</thead>\n",
              "<tbody>\n",
              "\t<tr><th scope=row>1</th><td>16.40968</td><td>-0.5453742</td></tr>\n",
              "\t<tr><th scope=row>2</th><td>18.49551</td><td>-0.8452646</td></tr>\n",
              "\t<tr><th scope=row>3</th><td>20.11900</td><td>-0.9385880</td></tr>\n",
              "\t<tr><th scope=row>4</th><td>12.54582</td><td>-0.1359099</td></tr>\n",
              "\t<tr><th scope=row>5</th><td>20.67253</td><td>-1.0735597</td></tr>\n",
              "\t<tr><th scope=row>6</th><td>17.83275</td><td> 0.1915632</td></tr>\n",
              "</tbody>\n",
              "</table>\n"
            ],
            "text/markdown": "\nA data.frame: 6 × 2\n\n| <!--/--> | Y &lt;dbl&gt; | X &lt;dbl&gt; |\n|---|---|---|\n| 1 | 16.40968 | -0.5453742 |\n| 2 | 18.49551 | -0.8452646 |\n| 3 | 20.11900 | -0.9385880 |\n| 4 | 12.54582 | -0.1359099 |\n| 5 | 20.67253 | -1.0735597 |\n| 6 | 17.83275 |  0.1915632 |\n\n",
            "text/latex": "A data.frame: 6 × 2\n\\begin{tabular}{r|ll}\n  & Y & X\\\\\n  & <dbl> & <dbl>\\\\\n\\hline\n\t1 & 16.40968 & -0.5453742\\\\\n\t2 & 18.49551 & -0.8452646\\\\\n\t3 & 20.11900 & -0.9385880\\\\\n\t4 & 12.54582 & -0.1359099\\\\\n\t5 & 20.67253 & -1.0735597\\\\\n\t6 & 17.83275 &  0.1915632\\\\\n\\end{tabular}\n",
            "text/plain": [
              "  Y        X         \n",
              "1 16.40968 -0.5453742\n",
              "2 18.49551 -0.8452646\n",
              "3 20.11900 -0.9385880\n",
              "4 12.54582 -0.1359099\n",
              "5 20.67253 -1.0735597\n",
              "6 17.83275  0.1915632"
            ]
          },
          "metadata": {}
        }
      ],
      "source": [
        "# WRITE YOUR CODE HERE\n",
        "\n",
        "# Libraries\n",
        "# install.packages(\"leaps\")\n",
        "# install.packages('caTools')\n",
        "library(caTools)\n",
        "library(tidyverse)\n",
        "library(leaps)\n",
        "\n",
        "# define constants\n",
        "n <- 100\n",
        "B_0 <- 15\n",
        "B_1 <- 5\n",
        "B_2 <- 20\n",
        "B_3 <- 10\n",
        "\n",
        "# simulation function\n",
        "simulate_data <- function(n, B_0, B_1, B_2, B_3) {\n",
        "  X <- rnorm(n, 0, 1)\n",
        "  eps <- rnorm(n, 0 , 1) \n",
        "  Y <- B_0 + (B_1 * X) + (B_2 * X^2) + (B_3 * X^3) + eps\n",
        "  return(data.frame(Y=Y, X=X))\n",
        "}\n",
        "\n",
        "df <- simulate_data(n, B_0, B_1, B_2, B_3)\n",
        "head(df)"
      ],
      "id": "82a01047"
    },
    {
      "cell_type": "markdown",
      "metadata": {
        "id": "19065c60"
      },
      "source": [
        "b) Use `regsubsets()` to perform best subset selection to determine the best model that contains the predictor variables $X$, $X^2$, . . . , $X^{10}$. Print the model summary."
      ],
      "id": "19065c60"
    },
    {
      "cell_type": "code",
      "execution_count": 111,
      "metadata": {
        "id": "2d0ea51f",
        "colab": {
          "base_uri": "https://localhost:8080/",
          "height": 677
        },
        "outputId": "ec6a25bf-7aa9-45c5-ba39-abe34f91dc0c"
      },
      "outputs": [
        {
          "output_type": "display_data",
          "data": {
            "text/plain": [
              "Subset selection object\n",
              "Call: regsubsets.formula(Y ~ ., df_for_reg, nvmax = 10)\n",
              "10 Variables  (and intercept)\n",
              "          Forced in Forced out\n",
              "X             FALSE      FALSE\n",
              "`df$X^2`      FALSE      FALSE\n",
              "`df$X^3`      FALSE      FALSE\n",
              "`df$X^4`      FALSE      FALSE\n",
              "`df$X^5`      FALSE      FALSE\n",
              "`df$X^6`      FALSE      FALSE\n",
              "`df$X^7`      FALSE      FALSE\n",
              "`df$X^8`      FALSE      FALSE\n",
              "`df$X^9`      FALSE      FALSE\n",
              "`df$X^10`     FALSE      FALSE\n",
              "1 subsets of each size up to 10\n",
              "Selection Algorithm: exhaustive\n",
              "          X   `df$X^2` `df$X^3` `df$X^4` `df$X^5` `df$X^6` `df$X^7` `df$X^8`\n",
              "1  ( 1 )  \" \" \" \"      \"*\"      \" \"      \" \"      \" \"      \" \"      \" \"     \n",
              "2  ( 1 )  \" \" \"*\"      \"*\"      \" \"      \" \"      \" \"      \" \"      \" \"     \n",
              "3  ( 1 )  \"*\" \"*\"      \"*\"      \" \"      \" \"      \" \"      \" \"      \" \"     \n",
              "4  ( 1 )  \"*\" \"*\"      \"*\"      \"*\"      \" \"      \" \"      \" \"      \" \"     \n",
              "5  ( 1 )  \"*\" \"*\"      \"*\"      \"*\"      \" \"      \" \"      \"*\"      \" \"     \n",
              "6  ( 1 )  \"*\" \"*\"      \"*\"      \"*\"      \" \"      \"*\"      \" \"      \"*\"     \n",
              "7  ( 1 )  \"*\" \"*\"      \"*\"      \"*\"      \" \"      \"*\"      \" \"      \"*\"     \n",
              "8  ( 1 )  \"*\" \"*\"      \"*\"      \"*\"      \"*\"      \"*\"      \"*\"      \"*\"     \n",
              "9  ( 1 )  \"*\" \"*\"      \"*\"      \"*\"      \"*\"      \"*\"      \"*\"      \"*\"     \n",
              "10  ( 1 ) \"*\" \"*\"      \"*\"      \"*\"      \"*\"      \"*\"      \"*\"      \"*\"     \n",
              "          `df$X^9` `df$X^10`\n",
              "1  ( 1 )  \" \"      \" \"      \n",
              "2  ( 1 )  \" \"      \" \"      \n",
              "3  ( 1 )  \" \"      \" \"      \n",
              "4  ( 1 )  \" \"      \" \"      \n",
              "5  ( 1 )  \" \"      \" \"      \n",
              "6  ( 1 )  \" \"      \" \"      \n",
              "7  ( 1 )  \" \"      \"*\"      \n",
              "8  ( 1 )  \" \"      \" \"      \n",
              "9  ( 1 )  \" \"      \"*\"      \n",
              "10  ( 1 ) \"*\"      \"*\"      "
            ]
          },
          "metadata": {}
        }
      ],
      "source": [
        "# WRITE YOUR CODE HERE\n",
        "\n",
        "# create model df for regsubsets()\n",
        "df_for_reg <- cbind(df,df$X^2,df$X^3,df$X^4,df$X^5,df$X^6,df$X^7,df$X^8,\n",
        "                  df$X^9,df$X^10)\n",
        "\n",
        "# use regsubsets() to perform best subset selection\n",
        "regfit <- regsubsets(Y~., df_for_reg, nvmax=10)\n",
        "\n",
        "# print model summary\n",
        "reg_summary <- summary(regfit)\n",
        "reg_summary"
      ],
      "id": "2d0ea51f"
    },
    {
      "cell_type": "markdown",
      "metadata": {
        "id": "3528231b"
      },
      "source": [
        "c) Plot the Mallows' Cp, Bayesian Information Criteria (BIC) and the adjusted coefficient of determination, $R^2$, for each model tested. Which is the best model? Report the coefficients of the best model. "
      ],
      "id": "3528231b"
    },
    {
      "cell_type": "code",
      "execution_count": 112,
      "metadata": {
        "id": "6a817913",
        "colab": {
          "base_uri": "https://localhost:8080/",
          "height": 1000
        },
        "outputId": "da3675c8-9b6c-4e7e-b1ff-0ecca1a93253"
      },
      "outputs": [
        {
          "output_type": "display_data",
          "data": {
            "text/plain": [
              "plot without title"
            ],
            "image/png": "[encoded data removed]"
          },
          "metadata": {
            "image/png": {
              "width": 420,
              "height": 420
            }
          }
        },
        {
          "output_type": "display_data",
          "data": {
            "text/plain": [
              "plot without title"
            ],
            "image/png": "[encoded data removed]"
          },
          "metadata": {
            "image/png": {
              "width": 420,
              "height": 420
            }
          }
        },
        {
          "output_type": "display_data",
          "data": {
            "text/plain": [
              "plot without title"
            ],
            "image/png": "[encoded data removed]"
          },
          "metadata": {
            "image/png": {
              "width": 420,
              "height": 420
            }
          }
        }
      ],
      "source": [
        "# WRITE YOUR CODE HERE\n",
        "\n",
        "# plot model fit statistics for each model tested\n",
        "plot(regfit, scale=\"Cp\") #Mallow's Cp\n",
        "plot(regfit, scale=\"bic\") #BIC\n",
        "plot(regfit, scale=\"adjr2\") #adjusted R^2"
      ],
      "id": "6a817913"
    },
    {
      "cell_type": "code",
      "source": [
        "\n",
        "# get optimal models according to each fit metric\n",
        "optimal <- data.frame(\n",
        "  Cp = which.min(reg_summary$cp),\n",
        "  BIC = which.min(reg_summary$bic),\n",
        "  Adj_R2 = which.max(reg_summary$adjr2)\n",
        ")\n",
        "\n",
        "optimal\n",
        "\n",
        "# report coefficients from optimal model\n",
        "mdl_4 <- lm(Y~X+`df$X^2`+`df$X^3`+`df$X^4`, df_for_reg)\n",
        "summary(mdl_4)$coefficients\n",
        "\n",
        "mdl_3 <- lm(Y~X+`df$X^2`+`df$X^3`, df_for_reg)\n",
        "summary(mdl_3)$coefficients\n",
        "\n",
        "mdl_7 <- lm(Y~X+`df$X^2`+`df$X^3`+`df$X^4`+`df$X^5`+`df$X^6`+`df$X^7`, \n",
        "          df_for_reg)\n",
        "summary(mdl_7)$coefficients"
      ],
      "metadata": {
        "colab": {
          "base_uri": "https://localhost:8080/",
          "height": 812
        },
        "id": "UH3aaG5mrVUF",
        "outputId": "aa0f6c93-c898-4642-f62c-798b67e52bcb"
      },
      "id": "UH3aaG5mrVUF",
      "execution_count": 113,
      "outputs": [
        {
          "output_type": "display_data",
          "data": {
            "text/html": [
              "<table class=\"dataframe\">\n",
              "<caption>A data.frame: 1 × 3</caption>\n",
              "<thead>\n",
              "\t<tr><th scope=col>Cp</th><th scope=col>BIC</th><th scope=col>Adj_R2</th></tr>\n",
              "\t<tr><th scope=col>&lt;int&gt;</th><th scope=col>&lt;int&gt;</th><th scope=col>&lt;int&gt;</th></tr>\n",
              "</thead>\n",
              "<tbody>\n",
              "\t<tr><td>4</td><td>3</td><td>7</td></tr>\n",
              "</tbody>\n",
              "</table>\n"
            ],
            "text/markdown": "\nA data.frame: 1 × 3\n\n| Cp &lt;int&gt; | BIC &lt;int&gt; | Adj_R2 &lt;int&gt; |\n|---|---|---|\n| 4 | 3 | 7 |\n\n",
            "text/latex": "A data.frame: 1 × 3\n\\begin{tabular}{lll}\n Cp & BIC & Adj\\_R2\\\\\n <int> & <int> & <int>\\\\\n\\hline\n\t 4 & 3 & 7\\\\\n\\end{tabular}\n",
            "text/plain": [
              "  Cp BIC Adj_R2\n",
              "1 4  3   7     "
            ]
          },
          "metadata": {}
        },
        {
          "output_type": "display_data",
          "data": {
            "text/html": [
              "<table class=\"dataframe\">\n",
              "<caption>A matrix: 5 × 4 of type dbl</caption>\n",
              "<thead>\n",
              "\t<tr><th></th><th scope=col>Estimate</th><th scope=col>Std. Error</th><th scope=col>t value</th><th scope=col>Pr(&gt;|t|)</th></tr>\n",
              "</thead>\n",
              "<tbody>\n",
              "\t<tr><th scope=row>(Intercept)</th><td>14.76975057</td><td>0.16592775</td><td> 89.013141</td><td> 2.584228e-93</td></tr>\n",
              "\t<tr><th scope=row>X</th><td> 5.00298916</td><td>0.22540264</td><td> 22.195788</td><td> 2.280298e-39</td></tr>\n",
              "\t<tr><th scope=row>`df$X^2`</th><td>20.39530613</td><td>0.27715904</td><td> 73.587014</td><td> 1.421090e-85</td></tr>\n",
              "\t<tr><th scope=row>`df$X^3`</th><td>10.00671957</td><td>0.07442623</td><td>134.451518</td><td>3.412341e-110</td></tr>\n",
              "\t<tr><th scope=row>`df$X^4`</th><td>-0.08945347</td><td>0.06176870</td><td> -1.448201</td><td> 1.508533e-01</td></tr>\n",
              "</tbody>\n",
              "</table>\n"
            ],
            "text/markdown": "\nA matrix: 5 × 4 of type dbl\n\n| <!--/--> | Estimate | Std. Error | t value | Pr(&gt;|t|) |\n|---|---|---|---|---|\n| (Intercept) | 14.76975057 | 0.16592775 |  89.013141 |  2.584228e-93 |\n| X |  5.00298916 | 0.22540264 |  22.195788 |  2.280298e-39 |\n| `df$X^2` | 20.39530613 | 0.27715904 |  73.587014 |  1.421090e-85 |\n| `df$X^3` | 10.00671957 | 0.07442623 | 134.451518 | 3.412341e-110 |\n| `df$X^4` | -0.08945347 | 0.06176870 |  -1.448201 |  1.508533e-01 |\n\n",
            "text/latex": "A matrix: 5 × 4 of type dbl\n\\begin{tabular}{r|llll}\n  & Estimate & Std. Error & t value & Pr(>\\textbar{}t\\textbar{})\\\\\n\\hline\n\t(Intercept) & 14.76975057 & 0.16592775 &  89.013141 &  2.584228e-93\\\\\n\tX &  5.00298916 & 0.22540264 &  22.195788 &  2.280298e-39\\\\\n\t`df\\$X\\textasciicircum{}2` & 20.39530613 & 0.27715904 &  73.587014 &  1.421090e-85\\\\\n\t`df\\$X\\textasciicircum{}3` & 10.00671957 & 0.07442623 & 134.451518 & 3.412341e-110\\\\\n\t`df\\$X\\textasciicircum{}4` & -0.08945347 & 0.06176870 &  -1.448201 &  1.508533e-01\\\\\n\\end{tabular}\n",
            "text/plain": [
              "            Estimate    Std. Error t value    Pr(>|t|)     \n",
              "(Intercept) 14.76975057 0.16592775  89.013141  2.584228e-93\n",
              "X            5.00298916 0.22540264  22.195788  2.280298e-39\n",
              "`df$X^2`    20.39530613 0.27715904  73.587014  1.421090e-85\n",
              "`df$X^3`    10.00671957 0.07442623 134.451518 3.412341e-110\n",
              "`df$X^4`    -0.08945347 0.06176870  -1.448201  1.508533e-01"
            ]
          },
          "metadata": {}
        },
        {
          "output_type": "display_data",
          "data": {
            "text/html": [
              "<table class=\"dataframe\">\n",
              "<caption>A matrix: 4 × 4 of type dbl</caption>\n",
              "<thead>\n",
              "\t<tr><th></th><th scope=col>Estimate</th><th scope=col>Std. Error</th><th scope=col>t value</th><th scope=col>Pr(&gt;|t|)</th></tr>\n",
              "</thead>\n",
              "<tbody>\n",
              "\t<tr><th scope=row>(Intercept)</th><td>14.898741</td><td>0.1407930</td><td>105.82021</td><td>3.341709e-101</td></tr>\n",
              "\t<tr><th scope=row>X</th><td> 5.061686</td><td>0.2229922</td><td> 22.69893</td><td> 2.273808e-40</td></tr>\n",
              "\t<tr><th scope=row>`df$X^2`</th><td>20.017678</td><td>0.0944664</td><td>211.90263</td><td>5.076182e-130</td></tr>\n",
              "\t<tr><th scope=row>`df$X^3`</th><td> 9.979671</td><td>0.0724552</td><td>137.73575</td><td>4.037031e-112</td></tr>\n",
              "</tbody>\n",
              "</table>\n"
            ],
            "text/markdown": "\nA matrix: 4 × 4 of type dbl\n\n| <!--/--> | Estimate | Std. Error | t value | Pr(&gt;|t|) |\n|---|---|---|---|---|\n| (Intercept) | 14.898741 | 0.1407930 | 105.82021 | 3.341709e-101 |\n| X |  5.061686 | 0.2229922 |  22.69893 |  2.273808e-40 |\n| `df$X^2` | 20.017678 | 0.0944664 | 211.90263 | 5.076182e-130 |\n| `df$X^3` |  9.979671 | 0.0724552 | 137.73575 | 4.037031e-112 |\n\n",
            "text/latex": "A matrix: 4 × 4 of type dbl\n\\begin{tabular}{r|llll}\n  & Estimate & Std. Error & t value & Pr(>\\textbar{}t\\textbar{})\\\\\n\\hline\n\t(Intercept) & 14.898741 & 0.1407930 & 105.82021 & 3.341709e-101\\\\\n\tX &  5.061686 & 0.2229922 &  22.69893 &  2.273808e-40\\\\\n\t`df\\$X\\textasciicircum{}2` & 20.017678 & 0.0944664 & 211.90263 & 5.076182e-130\\\\\n\t`df\\$X\\textasciicircum{}3` &  9.979671 & 0.0724552 & 137.73575 & 4.037031e-112\\\\\n\\end{tabular}\n",
            "text/plain": [
              "            Estimate  Std. Error t value   Pr(>|t|)     \n",
              "(Intercept) 14.898741 0.1407930  105.82021 3.341709e-101\n",
              "X            5.061686 0.2229922   22.69893  2.273808e-40\n",
              "`df$X^2`    20.017678 0.0944664  211.90263 5.076182e-130\n",
              "`df$X^3`     9.979671 0.0724552  137.73575 4.037031e-112"
            ]
          },
          "metadata": {}
        },
        {
          "output_type": "display_data",
          "data": {
            "text/html": [
              "<table class=\"dataframe\">\n",
              "<caption>A matrix: 8 × 4 of type dbl</caption>\n",
              "<thead>\n",
              "\t<tr><th></th><th scope=col>Estimate</th><th scope=col>Std. Error</th><th scope=col>t value</th><th scope=col>Pr(&gt;|t|)</th></tr>\n",
              "</thead>\n",
              "<tbody>\n",
              "\t<tr><th scope=row>(Intercept)</th><td>14.746731905</td><td>0.19063799</td><td>77.35463323</td><td>1.624757e-85</td></tr>\n",
              "\t<tr><th scope=row>X</th><td> 5.141029162</td><td>0.51826068</td><td> 9.91977465</td><td>3.367741e-16</td></tr>\n",
              "\t<tr><th scope=row>`df$X^2`</th><td>20.492182405</td><td>0.56211006</td><td>36.45581852</td><td>1.768553e-56</td></tr>\n",
              "\t<tr><th scope=row>`df$X^3`</th><td> 9.878960974</td><td>0.82479976</td><td>11.97740530</td><td>1.777241e-20</td></tr>\n",
              "\t<tr><th scope=row>`df$X^4`</th><td>-0.128020625</td><td>0.32849728</td><td>-0.38971594</td><td>6.976473e-01</td></tr>\n",
              "\t<tr><th scope=row>`df$X^5`</th><td> 0.005752023</td><td>0.33511545</td><td> 0.01716430</td><td>9.863427e-01</td></tr>\n",
              "\t<tr><th scope=row>`df$X^6`</th><td> 0.002575497</td><td>0.04865789</td><td> 0.05293071</td><td>9.579019e-01</td></tr>\n",
              "\t<tr><th scope=row>`df$X^7`</th><td> 0.003394960</td><td>0.03883642</td><td> 0.08741692</td><td>9.305301e-01</td></tr>\n",
              "</tbody>\n",
              "</table>\n"
            ],
            "text/markdown": "\nA matrix: 8 × 4 of type dbl\n\n| <!--/--> | Estimate | Std. Error | t value | Pr(&gt;|t|) |\n|---|---|---|---|---|\n| (Intercept) | 14.746731905 | 0.19063799 | 77.35463323 | 1.624757e-85 |\n| X |  5.141029162 | 0.51826068 |  9.91977465 | 3.367741e-16 |\n| `df$X^2` | 20.492182405 | 0.56211006 | 36.45581852 | 1.768553e-56 |\n| `df$X^3` |  9.878960974 | 0.82479976 | 11.97740530 | 1.777241e-20 |\n| `df$X^4` | -0.128020625 | 0.32849728 | -0.38971594 | 6.976473e-01 |\n| `df$X^5` |  0.005752023 | 0.33511545 |  0.01716430 | 9.863427e-01 |\n| `df$X^6` |  0.002575497 | 0.04865789 |  0.05293071 | 9.579019e-01 |\n| `df$X^7` |  0.003394960 | 0.03883642 |  0.08741692 | 9.305301e-01 |\n\n",
            "text/latex": "A matrix: 8 × 4 of type dbl\n\\begin{tabular}{r|llll}\n  & Estimate & Std. Error & t value & Pr(>\\textbar{}t\\textbar{})\\\\\n\\hline\n\t(Intercept) & 14.746731905 & 0.19063799 & 77.35463323 & 1.624757e-85\\\\\n\tX &  5.141029162 & 0.51826068 &  9.91977465 & 3.367741e-16\\\\\n\t`df\\$X\\textasciicircum{}2` & 20.492182405 & 0.56211006 & 36.45581852 & 1.768553e-56\\\\\n\t`df\\$X\\textasciicircum{}3` &  9.878960974 & 0.82479976 & 11.97740530 & 1.777241e-20\\\\\n\t`df\\$X\\textasciicircum{}4` & -0.128020625 & 0.32849728 & -0.38971594 & 6.976473e-01\\\\\n\t`df\\$X\\textasciicircum{}5` &  0.005752023 & 0.33511545 &  0.01716430 & 9.863427e-01\\\\\n\t`df\\$X\\textasciicircum{}6` &  0.002575497 & 0.04865789 &  0.05293071 & 9.579019e-01\\\\\n\t`df\\$X\\textasciicircum{}7` &  0.003394960 & 0.03883642 &  0.08741692 & 9.305301e-01\\\\\n\\end{tabular}\n",
            "text/plain": [
              "            Estimate     Std. Error t value     Pr(>|t|)    \n",
              "(Intercept) 14.746731905 0.19063799 77.35463323 1.624757e-85\n",
              "X            5.141029162 0.51826068  9.91977465 3.367741e-16\n",
              "`df$X^2`    20.492182405 0.56211006 36.45581852 1.768553e-56\n",
              "`df$X^3`     9.878960974 0.82479976 11.97740530 1.777241e-20\n",
              "`df$X^4`    -0.128020625 0.32849728 -0.38971594 6.976473e-01\n",
              "`df$X^5`     0.005752023 0.33511545  0.01716430 9.863427e-01\n",
              "`df$X^6`     0.002575497 0.04865789  0.05293071 9.579019e-01\n",
              "`df$X^7`     0.003394960 0.03883642  0.08741692 9.305301e-01"
            ]
          },
          "metadata": {}
        }
      ]
    },
    {
      "cell_type": "markdown",
      "metadata": {
        "id": "e7f16d76"
      },
      "source": [
        "> The three different fit metrics (Mallow's Cp, BIC, and Adj. R^2) all return different optimal models. Mallow's Cp suggests the optimal model is one including polynomials up to degree 4, while adjusted R2 suggests the optimal model includes X to X^4 followed by X^6, X^8, and X^10. Only the BIC suggests an optimal model up to X^3, which was the formula used to calculate Y in the simulation function. When examining the coefficients of these models, we do observe that only polynomials up to degree 3 are significantly associated with Y, and the estimates are very close to the parameter values set during the simulation."
      ],
      "id": "e7f16d76"
    },
    {
      "cell_type": "markdown",
      "metadata": {
        "id": "19d388b0"
      },
      "source": [
        "---\n",
        "## 2. Forward and backwards stepwise selection (3 points)"
      ],
      "id": "19d388b0"
    },
    {
      "cell_type": "markdown",
      "metadata": {
        "id": "620dc14c"
      },
      "source": [
        "Using the same simulated data from question 1, use forward stepwise selection, and backwards stepwise selections to determine the best model. Again, for both model selection methods, plot the Mallows' Cp, Bayesian Information Criteria (BIC) and the adjusted coefficient of determination, $R^2$, for each model tested. Report the coefficients of the best model. "
      ],
      "id": "620dc14c"
    },
    {
      "cell_type": "markdown",
      "metadata": {
        "id": "d734954e"
      },
      "source": [
        "a) Forward stepwise selection:"
      ],
      "id": "d734954e"
    },
    {
      "cell_type": "code",
      "execution_count": 108,
      "metadata": {
        "id": "8018ba62",
        "colab": {
          "base_uri": "https://localhost:8080/",
          "height": 677
        },
        "outputId": "bc68ec5b-ab74-413d-96de-75bfe32f1a13"
      },
      "outputs": [
        {
          "output_type": "display_data",
          "data": {
            "text/plain": [
              "Subset selection object\n",
              "Call: regsubsets.formula(Y ~ ., df_for_reg, method = \"forward\", nvmax = 10)\n",
              "10 Variables  (and intercept)\n",
              "          Forced in Forced out\n",
              "X             FALSE      FALSE\n",
              "`df$X^2`      FALSE      FALSE\n",
              "`df$X^3`      FALSE      FALSE\n",
              "`df$X^4`      FALSE      FALSE\n",
              "`df$X^5`      FALSE      FALSE\n",
              "`df$X^6`      FALSE      FALSE\n",
              "`df$X^7`      FALSE      FALSE\n",
              "`df$X^8`      FALSE      FALSE\n",
              "`df$X^9`      FALSE      FALSE\n",
              "`df$X^10`     FALSE      FALSE\n",
              "1 subsets of each size up to 10\n",
              "Selection Algorithm: forward\n",
              "          X   `df$X^2` `df$X^3` `df$X^4` `df$X^5` `df$X^6` `df$X^7` `df$X^8`\n",
              "1  ( 1 )  \" \" \" \"      \"*\"      \" \"      \" \"      \" \"      \" \"      \" \"     \n",
              "2  ( 1 )  \" \" \"*\"      \"*\"      \" \"      \" \"      \" \"      \" \"      \" \"     \n",
              "3  ( 1 )  \"*\" \"*\"      \"*\"      \" \"      \" \"      \" \"      \" \"      \" \"     \n",
              "4  ( 1 )  \"*\" \"*\"      \"*\"      \"*\"      \" \"      \" \"      \" \"      \" \"     \n",
              "5  ( 1 )  \"*\" \"*\"      \"*\"      \"*\"      \" \"      \" \"      \"*\"      \" \"     \n",
              "6  ( 1 )  \"*\" \"*\"      \"*\"      \"*\"      \" \"      \" \"      \"*\"      \" \"     \n",
              "7  ( 1 )  \"*\" \"*\"      \"*\"      \"*\"      \"*\"      \" \"      \"*\"      \" \"     \n",
              "8  ( 1 )  \"*\" \"*\"      \"*\"      \"*\"      \"*\"      \"*\"      \"*\"      \" \"     \n",
              "9  ( 1 )  \"*\" \"*\"      \"*\"      \"*\"      \"*\"      \"*\"      \"*\"      \"*\"     \n",
              "10  ( 1 ) \"*\" \"*\"      \"*\"      \"*\"      \"*\"      \"*\"      \"*\"      \"*\"     \n",
              "          `df$X^9` `df$X^10`\n",
              "1  ( 1 )  \" \"      \" \"      \n",
              "2  ( 1 )  \" \"      \" \"      \n",
              "3  ( 1 )  \" \"      \" \"      \n",
              "4  ( 1 )  \" \"      \" \"      \n",
              "5  ( 1 )  \" \"      \" \"      \n",
              "6  ( 1 )  \"*\"      \" \"      \n",
              "7  ( 1 )  \"*\"      \" \"      \n",
              "8  ( 1 )  \"*\"      \" \"      \n",
              "9  ( 1 )  \"*\"      \" \"      \n",
              "10  ( 1 ) \"*\"      \"*\"      "
            ]
          },
          "metadata": {}
        }
      ],
      "source": [
        "# WRITE YOUR CODE HERE\n",
        "\n",
        "regfit_forward_stepwise <- regsubsets(Y~., df_for_reg, method = 'forward',nvmax=10)\n",
        "reg_summary_fs <- summary(regfit_forward_stepwise)\n",
        "reg_summary_fs"
      ],
      "id": "8018ba62"
    },
    {
      "cell_type": "code",
      "source": [
        "# plot model fit statistics for each model tested\n",
        "plot(regfit_forward_stepwise, scale=\"Cp\") #Mallow's Cp\n",
        "plot(regfit_forward_stepwise, scale=\"bic\") #BIC\n",
        "plot(regfit_forward_stepwise, scale=\"adjr2\") #adjusted R^2"
      ],
      "metadata": {
        "colab": {
          "base_uri": "https://localhost:8080/",
          "height": 1000
        },
        "id": "xRGVB0Zqv44E",
        "outputId": "2efae449-5312-45d6-d0d2-c48933e52dea"
      },
      "id": "xRGVB0Zqv44E",
      "execution_count": 109,
      "outputs": [
        {
          "output_type": "display_data",
          "data": {
            "text/plain": [
              "plot without title"
            ],
            "image/png": "[encoded data removed]"
          },
          "metadata": {
            "image/png": {
              "width": 420,
              "height": 420
            }
          }
        },
        {
          "output_type": "display_data",
          "data": {
            "text/plain": [
              "plot without title"
            ],
            "image/png": "[encoded data removed]"
          },
          "metadata": {
            "image/png": {
              "width": 420,
              "height": 420
            }
          }
        },
        {
          "output_type": "display_data",
          "data": {
            "text/plain": [
              "plot without title"
            ],
            "image/png": "[encoded data removed]"
          },
          "metadata": {
            "image/png": {
              "width": 420,
              "height": 420
            }
          }
        }
      ]
    },
    {
      "cell_type": "code",
      "source": [
        "# get optimal models according to each fit metric\n",
        "optimal <- data.frame(\n",
        "  Cp = which.min(reg_summary_fs$cp),\n",
        "  BIC = which.min(reg_summary_fs$bic),\n",
        "  Adj_R2 = which.max(reg_summary_fs$adjr2)\n",
        ")\n",
        "\n",
        "optimal\n",
        "\n",
        "# report coefficients from optimal model\n",
        "mdl_4 <- lm(Y~X+`df$X^2`+`df$X^3`+`df$X^4`, df_for_reg)\n",
        "summary(mdl_4)$coefficients\n",
        "\n",
        "mdl_3 <- lm(Y~X+`df$X^2`+`df$X^3`, df_for_reg)\n",
        "summary(mdl_3)$coefficients"
      ],
      "metadata": {
        "colab": {
          "base_uri": "https://localhost:8080/",
          "height": 511
        },
        "id": "9jqxlFuzv5_G",
        "outputId": "1ba31e4e-7231-4159-9206-7de1fe01de8e"
      },
      "id": "9jqxlFuzv5_G",
      "execution_count": 110,
      "outputs": [
        {
          "output_type": "display_data",
          "data": {
            "text/html": [
              "<table class=\"dataframe\">\n",
              "<caption>A data.frame: 1 × 3</caption>\n",
              "<thead>\n",
              "\t<tr><th scope=col>Cp</th><th scope=col>BIC</th><th scope=col>Adj_R2</th></tr>\n",
              "\t<tr><th scope=col>&lt;int&gt;</th><th scope=col>&lt;int&gt;</th><th scope=col>&lt;int&gt;</th></tr>\n",
              "</thead>\n",
              "<tbody>\n",
              "\t<tr><td>4</td><td>3</td><td>4</td></tr>\n",
              "</tbody>\n",
              "</table>\n"
            ],
            "text/markdown": "\nA data.frame: 1 × 3\n\n| Cp &lt;int&gt; | BIC &lt;int&gt; | Adj_R2 &lt;int&gt; |\n|---|---|---|\n| 4 | 3 | 4 |\n\n",
            "text/latex": "A data.frame: 1 × 3\n\\begin{tabular}{lll}\n Cp & BIC & Adj\\_R2\\\\\n <int> & <int> & <int>\\\\\n\\hline\n\t 4 & 3 & 4\\\\\n\\end{tabular}\n",
            "text/plain": [
              "  Cp BIC Adj_R2\n",
              "1 4  3   4     "
            ]
          },
          "metadata": {}
        },
        {
          "output_type": "display_data",
          "data": {
            "text/html": [
              "<table class=\"dataframe\">\n",
              "<caption>A matrix: 5 × 4 of type dbl</caption>\n",
              "<thead>\n",
              "\t<tr><th></th><th scope=col>Estimate</th><th scope=col>Std. Error</th><th scope=col>t value</th><th scope=col>Pr(&gt;|t|)</th></tr>\n",
              "</thead>\n",
              "<tbody>\n",
              "\t<tr><th scope=row>(Intercept)</th><td>14.76975057</td><td>0.16592775</td><td> 89.013141</td><td> 2.584228e-93</td></tr>\n",
              "\t<tr><th scope=row>X</th><td> 5.00298916</td><td>0.22540264</td><td> 22.195788</td><td> 2.280298e-39</td></tr>\n",
              "\t<tr><th scope=row>`df$X^2`</th><td>20.39530613</td><td>0.27715904</td><td> 73.587014</td><td> 1.421090e-85</td></tr>\n",
              "\t<tr><th scope=row>`df$X^3`</th><td>10.00671957</td><td>0.07442623</td><td>134.451518</td><td>3.412341e-110</td></tr>\n",
              "\t<tr><th scope=row>`df$X^4`</th><td>-0.08945347</td><td>0.06176870</td><td> -1.448201</td><td> 1.508533e-01</td></tr>\n",
              "</tbody>\n",
              "</table>\n"
            ],
            "text/markdown": "\nA matrix: 5 × 4 of type dbl\n\n| <!--/--> | Estimate | Std. Error | t value | Pr(&gt;|t|) |\n|---|---|---|---|---|\n| (Intercept) | 14.76975057 | 0.16592775 |  89.013141 |  2.584228e-93 |\n| X |  5.00298916 | 0.22540264 |  22.195788 |  2.280298e-39 |\n| `df$X^2` | 20.39530613 | 0.27715904 |  73.587014 |  1.421090e-85 |\n| `df$X^3` | 10.00671957 | 0.07442623 | 134.451518 | 3.412341e-110 |\n| `df$X^4` | -0.08945347 | 0.06176870 |  -1.448201 |  1.508533e-01 |\n\n",
            "text/latex": "A matrix: 5 × 4 of type dbl\n\\begin{tabular}{r|llll}\n  & Estimate & Std. Error & t value & Pr(>\\textbar{}t\\textbar{})\\\\\n\\hline\n\t(Intercept) & 14.76975057 & 0.16592775 &  89.013141 &  2.584228e-93\\\\\n\tX &  5.00298916 & 0.22540264 &  22.195788 &  2.280298e-39\\\\\n\t`df\\$X\\textasciicircum{}2` & 20.39530613 & 0.27715904 &  73.587014 &  1.421090e-85\\\\\n\t`df\\$X\\textasciicircum{}3` & 10.00671957 & 0.07442623 & 134.451518 & 3.412341e-110\\\\\n\t`df\\$X\\textasciicircum{}4` & -0.08945347 & 0.06176870 &  -1.448201 &  1.508533e-01\\\\\n\\end{tabular}\n",
            "text/plain": [
              "            Estimate    Std. Error t value    Pr(>|t|)     \n",
              "(Intercept) 14.76975057 0.16592775  89.013141  2.584228e-93\n",
              "X            5.00298916 0.22540264  22.195788  2.280298e-39\n",
              "`df$X^2`    20.39530613 0.27715904  73.587014  1.421090e-85\n",
              "`df$X^3`    10.00671957 0.07442623 134.451518 3.412341e-110\n",
              "`df$X^4`    -0.08945347 0.06176870  -1.448201  1.508533e-01"
            ]
          },
          "metadata": {}
        },
        {
          "output_type": "display_data",
          "data": {
            "text/html": [
              "<table class=\"dataframe\">\n",
              "<caption>A matrix: 4 × 4 of type dbl</caption>\n",
              "<thead>\n",
              "\t<tr><th></th><th scope=col>Estimate</th><th scope=col>Std. Error</th><th scope=col>t value</th><th scope=col>Pr(&gt;|t|)</th></tr>\n",
              "</thead>\n",
              "<tbody>\n",
              "\t<tr><th scope=row>(Intercept)</th><td>14.898741</td><td>0.1407930</td><td>105.82021</td><td>3.341709e-101</td></tr>\n",
              "\t<tr><th scope=row>X</th><td> 5.061686</td><td>0.2229922</td><td> 22.69893</td><td> 2.273808e-40</td></tr>\n",
              "\t<tr><th scope=row>`df$X^2`</th><td>20.017678</td><td>0.0944664</td><td>211.90263</td><td>5.076182e-130</td></tr>\n",
              "\t<tr><th scope=row>`df$X^3`</th><td> 9.979671</td><td>0.0724552</td><td>137.73575</td><td>4.037031e-112</td></tr>\n",
              "</tbody>\n",
              "</table>\n"
            ],
            "text/markdown": "\nA matrix: 4 × 4 of type dbl\n\n| <!--/--> | Estimate | Std. Error | t value | Pr(&gt;|t|) |\n|---|---|---|---|---|\n| (Intercept) | 14.898741 | 0.1407930 | 105.82021 | 3.341709e-101 |\n| X |  5.061686 | 0.2229922 |  22.69893 |  2.273808e-40 |\n| `df$X^2` | 20.017678 | 0.0944664 | 211.90263 | 5.076182e-130 |\n| `df$X^3` |  9.979671 | 0.0724552 | 137.73575 | 4.037031e-112 |\n\n",
            "text/latex": "A matrix: 4 × 4 of type dbl\n\\begin{tabular}{r|llll}\n  & Estimate & Std. Error & t value & Pr(>\\textbar{}t\\textbar{})\\\\\n\\hline\n\t(Intercept) & 14.898741 & 0.1407930 & 105.82021 & 3.341709e-101\\\\\n\tX &  5.061686 & 0.2229922 &  22.69893 &  2.273808e-40\\\\\n\t`df\\$X\\textasciicircum{}2` & 20.017678 & 0.0944664 & 211.90263 & 5.076182e-130\\\\\n\t`df\\$X\\textasciicircum{}3` &  9.979671 & 0.0724552 & 137.73575 & 4.037031e-112\\\\\n\\end{tabular}\n",
            "text/plain": [
              "            Estimate  Std. Error t value   Pr(>|t|)     \n",
              "(Intercept) 14.898741 0.1407930  105.82021 3.341709e-101\n",
              "X            5.061686 0.2229922   22.69893  2.273808e-40\n",
              "`df$X^2`    20.017678 0.0944664  211.90263 5.076182e-130\n",
              "`df$X^3`     9.979671 0.0724552  137.73575 4.037031e-112"
            ]
          },
          "metadata": {}
        }
      ]
    },
    {
      "cell_type": "markdown",
      "metadata": {
        "id": "955e381d"
      },
      "source": [
        "b) Backwards stepwise selection:"
      ],
      "id": "955e381d"
    },
    {
      "cell_type": "code",
      "execution_count": 105,
      "metadata": {
        "id": "c9a50756",
        "colab": {
          "base_uri": "https://localhost:8080/",
          "height": 677
        },
        "outputId": "5976627a-0d19-4a83-c21a-b1330f111c5e"
      },
      "outputs": [
        {
          "output_type": "display_data",
          "data": {
            "text/plain": [
              "Subset selection object\n",
              "Call: regsubsets.formula(Y ~ ., df_for_reg, method = \"backward\", nvmax = 10)\n",
              "10 Variables  (and intercept)\n",
              "          Forced in Forced out\n",
              "X             FALSE      FALSE\n",
              "`df$X^2`      FALSE      FALSE\n",
              "`df$X^3`      FALSE      FALSE\n",
              "`df$X^4`      FALSE      FALSE\n",
              "`df$X^5`      FALSE      FALSE\n",
              "`df$X^6`      FALSE      FALSE\n",
              "`df$X^7`      FALSE      FALSE\n",
              "`df$X^8`      FALSE      FALSE\n",
              "`df$X^9`      FALSE      FALSE\n",
              "`df$X^10`     FALSE      FALSE\n",
              "1 subsets of each size up to 10\n",
              "Selection Algorithm: backward\n",
              "          X   `df$X^2` `df$X^3` `df$X^4` `df$X^5` `df$X^6` `df$X^7` `df$X^8`\n",
              "1  ( 1 )  \" \" \" \"      \"*\"      \" \"      \" \"      \" \"      \" \"      \" \"     \n",
              "2  ( 1 )  \" \" \"*\"      \"*\"      \" \"      \" \"      \" \"      \" \"      \" \"     \n",
              "3  ( 1 )  \"*\" \"*\"      \"*\"      \" \"      \" \"      \" \"      \" \"      \" \"     \n",
              "4  ( 1 )  \"*\" \"*\"      \"*\"      \"*\"      \" \"      \" \"      \" \"      \" \"     \n",
              "5  ( 1 )  \"*\" \"*\"      \"*\"      \"*\"      \" \"      \"*\"      \" \"      \" \"     \n",
              "6  ( 1 )  \"*\" \"*\"      \"*\"      \"*\"      \" \"      \"*\"      \" \"      \"*\"     \n",
              "7  ( 1 )  \"*\" \"*\"      \"*\"      \"*\"      \" \"      \"*\"      \"*\"      \"*\"     \n",
              "8  ( 1 )  \"*\" \"*\"      \"*\"      \"*\"      \"*\"      \"*\"      \"*\"      \"*\"     \n",
              "9  ( 1 )  \"*\" \"*\"      \"*\"      \"*\"      \"*\"      \"*\"      \"*\"      \"*\"     \n",
              "10  ( 1 ) \"*\" \"*\"      \"*\"      \"*\"      \"*\"      \"*\"      \"*\"      \"*\"     \n",
              "          `df$X^9` `df$X^10`\n",
              "1  ( 1 )  \" \"      \" \"      \n",
              "2  ( 1 )  \" \"      \" \"      \n",
              "3  ( 1 )  \" \"      \" \"      \n",
              "4  ( 1 )  \" \"      \" \"      \n",
              "5  ( 1 )  \" \"      \" \"      \n",
              "6  ( 1 )  \" \"      \" \"      \n",
              "7  ( 1 )  \" \"      \" \"      \n",
              "8  ( 1 )  \" \"      \" \"      \n",
              "9  ( 1 )  \" \"      \"*\"      \n",
              "10  ( 1 ) \"*\"      \"*\"      "
            ]
          },
          "metadata": {}
        }
      ],
      "source": [
        "# WRITE YOUR CODE HERE\n",
        "regfit_backward_stepwise <- regsubsets(Y~., df_for_reg, method = 'backward', nvmax=10)\n",
        "reg_summary_bs <- summary(regfit_backward_stepwise)\n",
        "reg_summary_bs\n"
      ],
      "id": "c9a50756"
    },
    {
      "cell_type": "code",
      "source": [
        "# plot model fit statistics for each model tested\n",
        "plot(regfit_backward_stepwise, scale=\"Cp\") #Mallow's Cp\n",
        "plot(regfit_backward_stepwise, scale=\"bic\") #BIC\n",
        "plot(regfit_backward_stepwise, scale=\"adjr2\") #adjusted R^2"
      ],
      "metadata": {
        "colab": {
          "base_uri": "https://localhost:8080/",
          "height": 1000
        },
        "id": "Ep4DGOPJwLTQ",
        "outputId": "5791ded3-dfe6-4fc6-b5e0-43df633be1e5"
      },
      "id": "Ep4DGOPJwLTQ",
      "execution_count": 106,
      "outputs": [
        {
          "output_type": "display_data",
          "data": {
            "text/plain": [
              "plot without title"
            ],
            "image/png": "[encoded data removed]"
          },
          "metadata": {
            "image/png": {
              "width": 420,
              "height": 420
            }
          }
        },
        {
          "output_type": "display_data",
          "data": {
            "text/plain": [
              "plot without title"
            ],
            "image/png": "[encoded data removed]"
          },
          "metadata": {
            "image/png": {
              "width": 420,
              "height": 420
            }
          }
        },
        {
          "output_type": "display_data",
          "data": {
            "text/plain": [
              "plot without title"
            ],
            "image/png": "[encoded data removed]"
          },
          "metadata": {
            "image/png": {
              "width": 420,
              "height": 420
            }
          }
        }
      ]
    },
    {
      "cell_type": "code",
      "source": [
        "# get optimal models according to each fit metric\n",
        "optimal <- data.frame(\n",
        "  Cp = which.min(reg_summary_bs$cp),\n",
        "  BIC = which.min(reg_summary_bs$bic),\n",
        "  Adj_R2 = which.max(reg_summary_bs$adjr2)\n",
        ")\n",
        "\n",
        "optimal\n",
        "\n",
        "# report coefficients from optimal model\n",
        "mdl_4 <- lm(Y~X+`df$X^2`+`df$X^3`+`df$X^4`, df_for_reg)\n",
        "summary(mdl_4)$coefficients\n",
        "\n",
        "mdl_3 <- lm(Y~X+`df$X^2`+`df$X^3`, df_for_reg)\n",
        "summary(mdl_3)$coefficients"
      ],
      "metadata": {
        "colab": {
          "base_uri": "https://localhost:8080/",
          "height": 511
        },
        "id": "5QxfSni4wQOs",
        "outputId": "45d3a310-6ad3-4cbe-b46e-f068dcb07d50"
      },
      "id": "5QxfSni4wQOs",
      "execution_count": 107,
      "outputs": [
        {
          "output_type": "display_data",
          "data": {
            "text/html": [
              "<table class=\"dataframe\">\n",
              "<caption>A data.frame: 1 × 3</caption>\n",
              "<thead>\n",
              "\t<tr><th scope=col>Cp</th><th scope=col>BIC</th><th scope=col>Adj_R2</th></tr>\n",
              "\t<tr><th scope=col>&lt;int&gt;</th><th scope=col>&lt;int&gt;</th><th scope=col>&lt;int&gt;</th></tr>\n",
              "</thead>\n",
              "<tbody>\n",
              "\t<tr><td>4</td><td>3</td><td>4</td></tr>\n",
              "</tbody>\n",
              "</table>\n"
            ],
            "text/markdown": "\nA data.frame: 1 × 3\n\n| Cp &lt;int&gt; | BIC &lt;int&gt; | Adj_R2 &lt;int&gt; |\n|---|---|---|\n| 4 | 3 | 4 |\n\n",
            "text/latex": "A data.frame: 1 × 3\n\\begin{tabular}{lll}\n Cp & BIC & Adj\\_R2\\\\\n <int> & <int> & <int>\\\\\n\\hline\n\t 4 & 3 & 4\\\\\n\\end{tabular}\n",
            "text/plain": [
              "  Cp BIC Adj_R2\n",
              "1 4  3   4     "
            ]
          },
          "metadata": {}
        },
        {
          "output_type": "display_data",
          "data": {
            "text/html": [
              "<table class=\"dataframe\">\n",
              "<caption>A matrix: 5 × 4 of type dbl</caption>\n",
              "<thead>\n",
              "\t<tr><th></th><th scope=col>Estimate</th><th scope=col>Std. Error</th><th scope=col>t value</th><th scope=col>Pr(&gt;|t|)</th></tr>\n",
              "</thead>\n",
              "<tbody>\n",
              "\t<tr><th scope=row>(Intercept)</th><td>14.76975057</td><td>0.16592775</td><td> 89.013141</td><td> 2.584228e-93</td></tr>\n",
              "\t<tr><th scope=row>X</th><td> 5.00298916</td><td>0.22540264</td><td> 22.195788</td><td> 2.280298e-39</td></tr>\n",
              "\t<tr><th scope=row>`df$X^2`</th><td>20.39530613</td><td>0.27715904</td><td> 73.587014</td><td> 1.421090e-85</td></tr>\n",
              "\t<tr><th scope=row>`df$X^3`</th><td>10.00671957</td><td>0.07442623</td><td>134.451518</td><td>3.412341e-110</td></tr>\n",
              "\t<tr><th scope=row>`df$X^4`</th><td>-0.08945347</td><td>0.06176870</td><td> -1.448201</td><td> 1.508533e-01</td></tr>\n",
              "</tbody>\n",
              "</table>\n"
            ],
            "text/markdown": "\nA matrix: 5 × 4 of type dbl\n\n| <!--/--> | Estimate | Std. Error | t value | Pr(&gt;|t|) |\n|---|---|---|---|---|\n| (Intercept) | 14.76975057 | 0.16592775 |  89.013141 |  2.584228e-93 |\n| X |  5.00298916 | 0.22540264 |  22.195788 |  2.280298e-39 |\n| `df$X^2` | 20.39530613 | 0.27715904 |  73.587014 |  1.421090e-85 |\n| `df$X^3` | 10.00671957 | 0.07442623 | 134.451518 | 3.412341e-110 |\n| `df$X^4` | -0.08945347 | 0.06176870 |  -1.448201 |  1.508533e-01 |\n\n",
            "text/latex": "A matrix: 5 × 4 of type dbl\n\\begin{tabular}{r|llll}\n  & Estimate & Std. Error & t value & Pr(>\\textbar{}t\\textbar{})\\\\\n\\hline\n\t(Intercept) & 14.76975057 & 0.16592775 &  89.013141 &  2.584228e-93\\\\\n\tX &  5.00298916 & 0.22540264 &  22.195788 &  2.280298e-39\\\\\n\t`df\\$X\\textasciicircum{}2` & 20.39530613 & 0.27715904 &  73.587014 &  1.421090e-85\\\\\n\t`df\\$X\\textasciicircum{}3` & 10.00671957 & 0.07442623 & 134.451518 & 3.412341e-110\\\\\n\t`df\\$X\\textasciicircum{}4` & -0.08945347 & 0.06176870 &  -1.448201 &  1.508533e-01\\\\\n\\end{tabular}\n",
            "text/plain": [
              "            Estimate    Std. Error t value    Pr(>|t|)     \n",
              "(Intercept) 14.76975057 0.16592775  89.013141  2.584228e-93\n",
              "X            5.00298916 0.22540264  22.195788  2.280298e-39\n",
              "`df$X^2`    20.39530613 0.27715904  73.587014  1.421090e-85\n",
              "`df$X^3`    10.00671957 0.07442623 134.451518 3.412341e-110\n",
              "`df$X^4`    -0.08945347 0.06176870  -1.448201  1.508533e-01"
            ]
          },
          "metadata": {}
        },
        {
          "output_type": "display_data",
          "data": {
            "text/html": [
              "<table class=\"dataframe\">\n",
              "<caption>A matrix: 4 × 4 of type dbl</caption>\n",
              "<thead>\n",
              "\t<tr><th></th><th scope=col>Estimate</th><th scope=col>Std. Error</th><th scope=col>t value</th><th scope=col>Pr(&gt;|t|)</th></tr>\n",
              "</thead>\n",
              "<tbody>\n",
              "\t<tr><th scope=row>(Intercept)</th><td>14.898741</td><td>0.1407930</td><td>105.82021</td><td>3.341709e-101</td></tr>\n",
              "\t<tr><th scope=row>X</th><td> 5.061686</td><td>0.2229922</td><td> 22.69893</td><td> 2.273808e-40</td></tr>\n",
              "\t<tr><th scope=row>`df$X^2`</th><td>20.017678</td><td>0.0944664</td><td>211.90263</td><td>5.076182e-130</td></tr>\n",
              "\t<tr><th scope=row>`df$X^3`</th><td> 9.979671</td><td>0.0724552</td><td>137.73575</td><td>4.037031e-112</td></tr>\n",
              "</tbody>\n",
              "</table>\n"
            ],
            "text/markdown": "\nA matrix: 4 × 4 of type dbl\n\n| <!--/--> | Estimate | Std. Error | t value | Pr(&gt;|t|) |\n|---|---|---|---|---|\n| (Intercept) | 14.898741 | 0.1407930 | 105.82021 | 3.341709e-101 |\n| X |  5.061686 | 0.2229922 |  22.69893 |  2.273808e-40 |\n| `df$X^2` | 20.017678 | 0.0944664 | 211.90263 | 5.076182e-130 |\n| `df$X^3` |  9.979671 | 0.0724552 | 137.73575 | 4.037031e-112 |\n\n",
            "text/latex": "A matrix: 4 × 4 of type dbl\n\\begin{tabular}{r|llll}\n  & Estimate & Std. Error & t value & Pr(>\\textbar{}t\\textbar{})\\\\\n\\hline\n\t(Intercept) & 14.898741 & 0.1407930 & 105.82021 & 3.341709e-101\\\\\n\tX &  5.061686 & 0.2229922 &  22.69893 &  2.273808e-40\\\\\n\t`df\\$X\\textasciicircum{}2` & 20.017678 & 0.0944664 & 211.90263 & 5.076182e-130\\\\\n\t`df\\$X\\textasciicircum{}3` &  9.979671 & 0.0724552 & 137.73575 & 4.037031e-112\\\\\n\\end{tabular}\n",
            "text/plain": [
              "            Estimate  Std. Error t value   Pr(>|t|)     \n",
              "(Intercept) 14.898741 0.1407930  105.82021 3.341709e-101\n",
              "X            5.061686 0.2229922   22.69893  2.273808e-40\n",
              "`df$X^2`    20.017678 0.0944664  211.90263 5.076182e-130\n",
              "`df$X^3`     9.979671 0.0724552  137.73575 4.037031e-112"
            ]
          },
          "metadata": {}
        }
      ]
    },
    {
      "cell_type": "markdown",
      "metadata": {
        "id": "25dbc027"
      },
      "source": [
        "c) Compare your results from parts a and b with those of question 1."
      ],
      "id": "25dbc027"
    },
    {
      "cell_type": "markdown",
      "metadata": {
        "id": "34ac850e"
      },
      "source": [
        "> Both forward and backward stepwise selection methods returned identical optimal models according to the bias-adjusted fit metrics. Unlike the full subset selection, adjusted R^2 returned a model of polynomial degree 4 as optimal, rather than 7. The coefficients across both selection methods again mirror the parameters used to calculate Y in the simulation function, with estimates close to 0 for all higher order terms. "
      ],
      "id": "34ac850e"
    },
    {
      "cell_type": "markdown",
      "metadata": {
        "id": "630f4909"
      },
      "source": [
        "---\n",
        "## 3. Training and test error (3 points)"
      ],
      "id": "630f4909"
    },
    {
      "cell_type": "markdown",
      "metadata": {
        "id": "cdea3f49"
      },
      "source": [
        "This question will explore the relationship between training and test error and the number of features included in a model. We will again use a simulated dataset. \n",
        "\n",
        "a) Simulate dataset with features $p = 20$ and observations $n = 1,000$. Generate data for a response variable $Y$ according to the model\n",
        "\n",
        "$Y = X\\beta + \\epsilon$ \n",
        "\n",
        "where $\\beta$ is random with some elements that are exactly zero.\n",
        "\n",
        "Split your simulated dataset into a training set containing $n=100$ observations and a test set containing $n=900$ observations."
      ],
      "id": "cdea3f49"
    },
    {
      "cell_type": "code",
      "execution_count": 130,
      "metadata": {
        "id": "3f113879"
      },
      "outputs": [],
      "source": [
        "# WRITE YOUR CODE HERE\n",
        "\n",
        "# variables for simulation\n",
        "set.seed(8)\n",
        "n = 1000\n",
        "p = 20\n",
        "\n",
        "# simulate dataset according to instructions\n",
        "simulate_dataset <- function(n, p){\n",
        "  X <- matrix(rnorm(n*p),nrow=n) # matrix of size (n * p)\n",
        "  Beta <- matrix(rnorm(p),nrow=p) # coefficient matrix (should contain elements of 0)\n",
        "  eps <- rnorm(n, 0, 1) # noise term\n",
        "  Y <- (X %*% Beta) + eps # calculate Y according to formula\n",
        "  return(data.frame(Y=Y, X=X))\n",
        "}\n",
        "\n",
        "# simulate a dataset of size (1000, 20)\n",
        "dat <- simulate_dataset(n,p)\n",
        "\n",
        "# split into training and test set \n",
        "sample <- sample.split(dat$Y, SplitRatio = .9)\n",
        "train <- subset(dat, sample==TRUE)\n",
        "test <- subset(dat, sample==FALSE)"
      ],
      "id": "3f113879"
    },
    {
      "cell_type": "markdown",
      "metadata": {
        "id": "5886639c"
      },
      "source": [
        "b) Perform best subset selection on the training set, and plot the associated training and test set MSE for the best model of each size."
      ],
      "id": "5886639c"
    },
    {
      "cell_type": "code",
      "execution_count": 146,
      "metadata": {
        "id": "a1dbdf04",
        "colab": {
          "base_uri": "https://localhost:8080/",
          "height": 1000
        },
        "outputId": "f56a7068-8ae8-4f10-ad49-92161e4171be"
      },
      "outputs": [
        {
          "output_type": "display_data",
          "data": {
            "text/plain": [
              "Subset selection object\n",
              "Call: regsubsets.formula(Y ~ ., train, nvmax = 20)\n",
              "20 Variables  (and intercept)\n",
              "     Forced in Forced out\n",
              "X.1      FALSE      FALSE\n",
              "X.2      FALSE      FALSE\n",
              "X.3      FALSE      FALSE\n",
              "X.4      FALSE      FALSE\n",
              "X.5      FALSE      FALSE\n",
              "X.6      FALSE      FALSE\n",
              "X.7      FALSE      FALSE\n",
              "X.8      FALSE      FALSE\n",
              "X.9      FALSE      FALSE\n",
              "X.10     FALSE      FALSE\n",
              "X.11     FALSE      FALSE\n",
              "X.12     FALSE      FALSE\n",
              "X.13     FALSE      FALSE\n",
              "X.14     FALSE      FALSE\n",
              "X.15     FALSE      FALSE\n",
              "X.16     FALSE      FALSE\n",
              "X.17     FALSE      FALSE\n",
              "X.18     FALSE      FALSE\n",
              "X.19     FALSE      FALSE\n",
              "X.20     FALSE      FALSE\n",
              "1 subsets of each size up to 20\n",
              "Selection Algorithm: exhaustive\n",
              "          X.1 X.2 X.3 X.4 X.5 X.6 X.7 X.8 X.9 X.10 X.11 X.12 X.13 X.14 X.15\n",
              "1  ( 1 )  \" \" \" \" \" \" \" \" \" \" \" \" \" \" \" \" \" \" \" \"  \" \"  \" \"  \" \"  \" \"  \" \" \n",
              "2  ( 1 )  \" \" \" \" \" \" \" \" \" \" \" \" \" \" \" \" \" \" \" \"  \" \"  \"*\"  \" \"  \" \"  \" \" \n",
              "3  ( 1 )  \" \" \" \" \" \" \" \" \" \" \" \" \" \" \" \" \" \" \" \"  \" \"  \"*\"  \" \"  \" \"  \" \" \n",
              "4  ( 1 )  \" \" \" \" \" \" \" \" \" \" \" \" \" \" \"*\" \" \" \" \"  \" \"  \"*\"  \" \"  \" \"  \" \" \n",
              "5  ( 1 )  \" \" \" \" \" \" \" \" \" \" \" \" \" \" \"*\" \"*\" \" \"  \" \"  \"*\"  \" \"  \" \"  \" \" \n",
              "6  ( 1 )  \" \" \" \" \" \" \" \" \" \" \" \" \" \" \"*\" \"*\" \"*\"  \" \"  \"*\"  \" \"  \" \"  \" \" \n",
              "7  ( 1 )  \" \" \" \" \"*\" \" \" \" \" \" \" \" \" \"*\" \"*\" \"*\"  \" \"  \"*\"  \" \"  \" \"  \" \" \n",
              "8  ( 1 )  \" \" \" \" \"*\" \" \" \" \" \" \" \"*\" \"*\" \"*\" \"*\"  \" \"  \"*\"  \" \"  \" \"  \" \" \n",
              "9  ( 1 )  \" \" \" \" \"*\" \" \" \" \" \" \" \"*\" \"*\" \"*\" \"*\"  \" \"  \"*\"  \" \"  \" \"  \" \" \n",
              "10  ( 1 ) \" \" \" \" \"*\" \" \" \" \" \"*\" \"*\" \"*\" \"*\" \"*\"  \" \"  \"*\"  \" \"  \" \"  \" \" \n",
              "11  ( 1 ) \" \" \"*\" \"*\" \" \" \" \" \"*\" \"*\" \"*\" \"*\" \"*\"  \" \"  \"*\"  \" \"  \" \"  \" \" \n",
              "12  ( 1 ) \" \" \"*\" \"*\" \" \" \" \" \"*\" \"*\" \"*\" \"*\" \"*\"  \" \"  \"*\"  \" \"  \" \"  \"*\" \n",
              "13  ( 1 ) \" \" \"*\" \"*\" \" \" \" \" \"*\" \"*\" \"*\" \"*\" \"*\"  \"*\"  \"*\"  \" \"  \" \"  \"*\" \n",
              "14  ( 1 ) \" \" \"*\" \"*\" \" \" \" \" \"*\" \"*\" \"*\" \"*\" \"*\"  \"*\"  \"*\"  \" \"  \"*\"  \"*\" \n",
              "15  ( 1 ) \" \" \"*\" \"*\" \" \" \" \" \"*\" \"*\" \"*\" \"*\" \"*\"  \"*\"  \"*\"  \"*\"  \"*\"  \"*\" \n",
              "16  ( 1 ) \" \" \"*\" \"*\" \"*\" \" \" \"*\" \"*\" \"*\" \"*\" \"*\"  \"*\"  \"*\"  \"*\"  \"*\"  \"*\" \n",
              "17  ( 1 ) \" \" \"*\" \"*\" \"*\" \"*\" \"*\" \"*\" \"*\" \"*\" \"*\"  \"*\"  \"*\"  \"*\"  \"*\"  \"*\" \n",
              "18  ( 1 ) \"*\" \"*\" \"*\" \"*\" \"*\" \"*\" \"*\" \"*\" \"*\" \"*\"  \"*\"  \"*\"  \"*\"  \"*\"  \"*\" \n",
              "19  ( 1 ) \"*\" \"*\" \"*\" \"*\" \"*\" \"*\" \"*\" \"*\" \"*\" \"*\"  \"*\"  \"*\"  \"*\"  \"*\"  \"*\" \n",
              "20  ( 1 ) \"*\" \"*\" \"*\" \"*\" \"*\" \"*\" \"*\" \"*\" \"*\" \"*\"  \"*\"  \"*\"  \"*\"  \"*\"  \"*\" \n",
              "          X.16 X.17 X.18 X.19 X.20\n",
              "1  ( 1 )  \" \"  \" \"  \"*\"  \" \"  \" \" \n",
              "2  ( 1 )  \" \"  \" \"  \"*\"  \" \"  \" \" \n",
              "3  ( 1 )  \"*\"  \" \"  \"*\"  \" \"  \" \" \n",
              "4  ( 1 )  \"*\"  \" \"  \"*\"  \" \"  \" \" \n",
              "5  ( 1 )  \"*\"  \" \"  \"*\"  \" \"  \" \" \n",
              "6  ( 1 )  \"*\"  \" \"  \"*\"  \" \"  \" \" \n",
              "7  ( 1 )  \"*\"  \" \"  \"*\"  \" \"  \" \" \n",
              "8  ( 1 )  \"*\"  \" \"  \"*\"  \" \"  \" \" \n",
              "9  ( 1 )  \"*\"  \" \"  \"*\"  \"*\"  \" \" \n",
              "10  ( 1 ) \"*\"  \" \"  \"*\"  \"*\"  \" \" \n",
              "11  ( 1 ) \"*\"  \" \"  \"*\"  \"*\"  \" \" \n",
              "12  ( 1 ) \"*\"  \" \"  \"*\"  \"*\"  \" \" \n",
              "13  ( 1 ) \"*\"  \" \"  \"*\"  \"*\"  \" \" \n",
              "14  ( 1 ) \"*\"  \" \"  \"*\"  \"*\"  \" \" \n",
              "15  ( 1 ) \"*\"  \" \"  \"*\"  \"*\"  \" \" \n",
              "16  ( 1 ) \"*\"  \" \"  \"*\"  \"*\"  \" \" \n",
              "17  ( 1 ) \"*\"  \" \"  \"*\"  \"*\"  \" \" \n",
              "18  ( 1 ) \"*\"  \" \"  \"*\"  \"*\"  \" \" \n",
              "19  ( 1 ) \"*\"  \" \"  \"*\"  \"*\"  \"*\" \n",
              "20  ( 1 ) \"*\"  \"*\"  \"*\"  \"*\"  \"*\" "
            ]
          },
          "metadata": {}
        },
        {
          "output_type": "display_data",
          "data": {
            "text/html": [
              "<table class=\"dataframe\">\n",
              "<caption>A data.frame: 1 × 3</caption>\n",
              "<thead>\n",
              "\t<tr><th scope=col>Cp</th><th scope=col>BIC</th><th scope=col>Adj_R2</th></tr>\n",
              "\t<tr><th scope=col>&lt;int&gt;</th><th scope=col>&lt;int&gt;</th><th scope=col>&lt;int&gt;</th></tr>\n",
              "</thead>\n",
              "<tbody>\n",
              "\t<tr><td>16</td><td>16</td><td>18</td></tr>\n",
              "</tbody>\n",
              "</table>\n"
            ],
            "text/markdown": "\nA data.frame: 1 × 3\n\n| Cp &lt;int&gt; | BIC &lt;int&gt; | Adj_R2 &lt;int&gt; |\n|---|---|---|\n| 16 | 16 | 18 |\n\n",
            "text/latex": "A data.frame: 1 × 3\n\\begin{tabular}{lll}\n Cp & BIC & Adj\\_R2\\\\\n <int> & <int> & <int>\\\\\n\\hline\n\t 16 & 16 & 18\\\\\n\\end{tabular}\n",
            "text/plain": [
              "  Cp BIC Adj_R2\n",
              "1 16 16  18    "
            ]
          },
          "metadata": {}
        }
      ],
      "source": [
        "# WRITE YOUR CODE HERE\n",
        "\n",
        "# use regsubsets() to perform best subset selection\n",
        "regfit_train <- regsubsets(Y~., train, nvmax=20)\n",
        "\n",
        "# print model summary\n",
        "reg_train_summary <- summary(regfit_train)\n",
        "reg_train_summary\n",
        "\n",
        "optimal <- data.frame(\n",
        "  Cp = which.min(reg_train_summary$cp),\n",
        "  BIC = which.min(reg_train_summary$bic),\n",
        "  Adj_R2 = which.max(reg_train_summary$adjr2)\n",
        ")\n",
        "\n",
        "# display optimal model \n",
        "optimal"
      ],
      "id": "a1dbdf04"
    },
    {
      "cell_type": "code",
      "source": [
        "# function for extracting train and test MSE for an optimal model \n",
        "\n",
        "get_train_test_MSEs <- function(m){\n",
        "  models <- reg_train_summary$which[m,-1] # select model of size m\n",
        "  predictors <- names(which(models == TRUE)) # get boolean labels of model at given size\n",
        "  predictors <- paste(predictors, collapse = \"+\") # store variable names\n",
        "  form <- as.formula(paste0(\"Y\", \"~\", predictors)) # create formula\n",
        "  train_mdl <- lm(form, train) # run model on training data\n",
        "  train_MSE <- mean(train_mdl$residuals ^ 2) # get training set MSE\n",
        "  preds <- predict(train_mdl, test) # evaluate model on test set\n",
        "  test_MSE <- mean((test$Y - preds) ^ 2) # get test set MSE\n",
        "  return(list(train_MSE=train_MSE, test_MSE=test_MSE))\n",
        "}\n",
        "\n",
        "# get train and test set MSEs for best models at each size and plot\n",
        "MSEs <- data.frame(\n",
        "  Model_size = seq(1:20),\n",
        "  Train_MSE = rep(NA, 20),\n",
        "  Test_MSE = rep(NA, 20)\n",
        "\n",
        ")\n",
        "\n",
        "for (i in seq(20)){\n",
        "  mse_values <- get_train_test_MSEs(i)\n",
        "  MSEs$Train_MSE[i] <- mse_values$train_MSE\n",
        "  MSEs$Test_MSE[i] <- mse_values$test_MSE\n",
        "}\n",
        "\n",
        "ggplot(MSEs, aes(x=Model_size, y = Train_MSE, color='blue')) +\n",
        "  geom_point() +\n",
        "  geom_point(aes(y = Test_MSE, color='red')) +\n",
        "  labs(title='MSE of best models of increasing size', x='Model Size', y='MSE') +\n",
        "  theme(legend.position = \"none\")"
      ],
      "metadata": {
        "colab": {
          "base_uri": "https://localhost:8080/",
          "height": 437
        },
        "id": "ssy1cQWB_zhc",
        "outputId": "1fa50e15-a0fb-4d5b-f7f5-9ad9158822df"
      },
      "id": "ssy1cQWB_zhc",
      "execution_count": 211,
      "outputs": [
        {
          "output_type": "display_data",
          "data": {
            "text/plain": [
              "plot without title"
            ],
            "image/png": "[encoded data removed]"
          },
          "metadata": {
            "image/png": {
              "width": 420,
              "height": 420
            }
          }
        }
      ]
    },
    {
      "cell_type": "markdown",
      "metadata": {
        "id": "24f9d2f1"
      },
      "source": [
        "c) Identify the best model according the test MSE. How does this model compare to the actual model used to simulate the dataset?\n",
        "\n",
        "*Note: If the model identified contains only an intercept or all of the features, then generate a new dataset (i.e. repeat part a with a different random seed) until the test set MSE is minimized for an intermediate model size.*"
      ],
      "id": "24f9d2f1"
    },
    {
      "cell_type": "code",
      "execution_count": 216,
      "metadata": {
        "id": "87db7d52",
        "colab": {
          "base_uri": "https://localhost:8080/",
          "height": 34
        },
        "outputId": "56964775-1cb6-4009-8e7f-3e4b526a2f8f"
      },
      "outputs": [
        {
          "output_type": "display_data",
          "data": {
            "text/html": [
              "18"
            ],
            "text/markdown": "18",
            "text/latex": "18",
            "text/plain": [
              "[1] 18"
            ]
          },
          "metadata": {}
        }
      ],
      "source": [
        "# WRITE YOUR CODE HERE\n",
        "\n",
        "# get model with lowest test MSE\n",
        "best_model_test_MSE <- which.min(MSEs$Test_MSE)\n",
        "best_model_test_MSE"
      ],
      "id": "87db7d52"
    },
    {
      "cell_type": "markdown",
      "metadata": {
        "id": "894b4503"
      },
      "source": [
        "> Based on the test set MSE, the optimal model is one containing 18 features. This was also the value returned as optimal according to adjusted R2 based on the best subset selection performed on the training data. The MSE appears to be monotonically decreasing, though it is likely that with additional complexity we would begin to see increased test set MSE compared to training set MSE as the models variance increases to the point of overfit."
      ],
      "id": "894b4503"
    },
    {
      "cell_type": "markdown",
      "metadata": {
        "id": "35b974f0"
      },
      "source": [
        "**DUE:** 5pm EST, April 10, 2023"
      ],
      "id": "35b974f0"
    },
    {
      "cell_type": "markdown",
      "metadata": {
        "id": "957a72c5"
      },
      "source": [
        "**IMPORTANT** Did you collaborate with anyone on this assignment? If so, list their names here. \n",
        "> *Someone's Name*"
      ],
      "id": "957a72c5"
    }
  ],
  "metadata": {
    "colab": {
      "provenance": []
    },
    "kernelspec": {
      "display_name": "R",
      "language": "R",
      "name": "ir"
    },
    "language_info": {
      "codemirror_mode": "r",
      "file_extension": ".r",
      "mimetype": "text/x-r-source",
      "name": "R",
      "pygments_lexer": "r",
      "version": "4.2.0"
    }
  },
  "nbformat": 4,
  "nbformat_minor": 5
}