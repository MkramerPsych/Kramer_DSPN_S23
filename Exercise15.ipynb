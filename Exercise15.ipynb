{
  "cells": [
    {
      "cell_type": "markdown",
      "metadata": {
        "id": "-2W919d2ZXp7"
      },
      "source": [
        "# Exercise 15: Power Analyses"
      ]
    },
    {
      "cell_type": "markdown",
      "metadata": {
        "id": "L4nOzVhyZXqK"
      },
      "source": [
        "This  assignment is designed to give you practice with Monte Carlo methods to conduct power analyses via simulation. You won't need to load in any data for this homework. We will, however, be using parts of the homework from last week."
      ]
    },
    {
      "cell_type": "markdown",
      "metadata": {
        "id": "9DsyBTB6ZXqN"
      },
      "source": [
        "---\n",
        "## 1. Simulating data (1 points)\n"
      ]
    },
    {
      "cell_type": "markdown",
      "metadata": {
        "id": "J1f6MywYhyzN"
      },
      "source": [
        "Pull your `simulate_data()` function from your last homework and add it below. \n",
        "\n",
        "As a reminder, this function simulates the relationship between age, word reading experience, and reading comprehension skill. \n",
        "\n",
        "`c` is reading comprehension, and `x` is word reading experience."
      ]
    },
    {
      "cell_type": "code",
      "execution_count": null,
      "metadata": {
        "id": "UnBVazYfZXqP",
        "colab": {
          "base_uri": "https://localhost:8080/",
          "height": 286
        },
        "outputId": "343ed448-e946-44b0-d812-b8133a91ced8"
      },
      "outputs": [
        {
          "output_type": "display_data",
          "data": {
            "text/html": [
              "<table class=\"dataframe\">\n",
              "<caption>A data.frame: 6 × 3</caption>\n",
              "<thead>\n",
              "\t<tr><th></th><th scope=col>age</th><th scope=col>x</th><th scope=col>c</th></tr>\n",
              "\t<tr><th></th><th scope=col>&lt;dbl&gt;</th><th scope=col>&lt;dbl&gt;</th><th scope=col>&lt;dbl&gt;</th></tr>\n",
              "</thead>\n",
              "<tbody>\n",
              "\t<tr><th scope=row>1</th><td>169.5380</td><td>142.59922</td><td>520.8732</td></tr>\n",
              "\t<tr><th scope=row>2</th><td>141.5639</td><td>116.18801</td><td>396.7923</td></tr>\n",
              "\t<tr><th scope=row>3</th><td>139.6971</td><td> 81.23672</td><td>381.5143</td></tr>\n",
              "\t<tr><th scope=row>4</th><td>173.8004</td><td> 91.40009</td><td>498.1683</td></tr>\n",
              "\t<tr><th scope=row>5</th><td>188.0922</td><td>133.33126</td><td>525.2732</td></tr>\n",
              "\t<tr><th scope=row>6</th><td>160.3735</td><td> 45.57972</td><td>223.9429</td></tr>\n",
              "</tbody>\n",
              "</table>\n"
            ],
            "text/markdown": "\nA data.frame: 6 × 3\n\n| <!--/--> | age &lt;dbl&gt; | x &lt;dbl&gt; | c &lt;dbl&gt; |\n|---|---|---|---|\n| 1 | 169.5380 | 142.59922 | 520.8732 |\n| 2 | 141.5639 | 116.18801 | 396.7923 |\n| 3 | 139.6971 |  81.23672 | 381.5143 |\n| 4 | 173.8004 |  91.40009 | 498.1683 |\n| 5 | 188.0922 | 133.33126 | 525.2732 |\n| 6 | 160.3735 |  45.57972 | 223.9429 |\n\n",
            "text/latex": "A data.frame: 6 × 3\n\\begin{tabular}{r|lll}\n  & age & x & c\\\\\n  & <dbl> & <dbl> & <dbl>\\\\\n\\hline\n\t1 & 169.5380 & 142.59922 & 520.8732\\\\\n\t2 & 141.5639 & 116.18801 & 396.7923\\\\\n\t3 & 139.6971 &  81.23672 & 381.5143\\\\\n\t4 & 173.8004 &  91.40009 & 498.1683\\\\\n\t5 & 188.0922 & 133.33126 & 525.2732\\\\\n\t6 & 160.3735 &  45.57972 & 223.9429\\\\\n\\end{tabular}\n",
            "text/plain": [
              "  age      x         c       \n",
              "1 169.5380 142.59922 520.8732\n",
              "2 141.5639 116.18801 396.7923\n",
              "3 139.6971  81.23672 381.5143\n",
              "4 173.8004  91.40009 498.1683\n",
              "5 188.0922 133.33126 525.2732\n",
              "6 160.3735  45.57972 223.9429"
            ]
          },
          "metadata": {}
        }
      ],
      "source": [
        "sample_size = 100 # How many children in data set? \n",
        "age_lo = 80     # minimum age, in months\n",
        "age_hi = 200    # maximum age, in months\n",
        "beta_xa = 0.5   # amount by which experience changes for increase of one month in age\n",
        "beta_x0 = -5    # amount of experience when age = 0 (not interpretable, since minimum age for this data is 80 months)\n",
        "sd_x = 50       # standard dev of gaussian noise term, epsilon_x\n",
        "beta_ca = 0.8   # amount that comprehension score improves for every increase of one unit in age\n",
        "beta_cx = 3     # amount that comprehension score improves for every increase of one unit in reading experience\n",
        "beta_c0 = 10    # comprehension score when reading experience is 0. \n",
        "sd_c = 85      # standard dev of gaussian noise term, epsilon_c\n",
        "\n",
        "simulate_data <- function(sample_size, age_lo, age_hi, beta_xa, beta_x0, sd_x, beta_ca, beta_cx, beta_c0, sd_c) {\n",
        "      age <- runif(sample_size, age_lo, age_hi)\n",
        "      x <- (beta_xa * age) + beta_x0 + rnorm(sample_size, mean = 0, sd = sd_x)\n",
        "      c <- (beta_ca * age) + (beta_cx * x) + beta_c0 + rnorm(sample_size, mean = 0, sd = sd_c)\n",
        "      return(data.frame(age=age,x=x,c=c)) # it's actually bad form to have a variable named \"c\" in R, my bad...\n",
        "}\n",
        "\n",
        "dat <- simulate_data(sample_size, age_lo, age_hi, beta_xa, beta_x0, sd_x, beta_ca, beta_cx, beta_c0, sd_c)\n",
        "head(dat)"
      ]
    },
    {
      "cell_type": "markdown",
      "metadata": {
        "id": "T3b3_KsHk-xD"
      },
      "source": [
        "---\n",
        "## 2. `run_analysis()` function (2 pts)"
      ]
    },
    {
      "cell_type": "markdown",
      "metadata": {
        "id": "TJyPIaTO8zCS"
      },
      "source": [
        "Last week, we looked at whether word reading experience(`x`) mediated the relation between `age` and reading comprehension (`c`).\n",
        "\n",
        "Now we're going to use our `simulate_data()` function to conduct a power analysis. The goal is to determine how many participants we would need in order to detect both the mediated and the direct effects in this data. \n",
        "\n",
        "*Note: We're going to pretend for the sake of simplicity that we don't have any control over the ages of the children we get (so ages are generated using `runif(sample_size, age_lo, age_hi)`, although of course this would be an unusual situation in reality.*\n",
        "\n",
        "First, write a function, `run_analysis()`, that takes in simulated data, runs **your mediation from last week**, and returns a vector containing the ACME and ADE estimates and p-values (these are the `d0`, `d0.p`, `z0`, and `z0.p` features of the mediated model object, e.g., `fitMed$d0.p`). Print this function's output for the data we simulated previously. "
      ]
    },
    {
      "cell_type": "code",
      "execution_count": null,
      "metadata": {
        "id": "AidH_KidrX9L",
        "scrolled": true,
        "colab": {
          "base_uri": "https://localhost:8080/",
          "height": 34
        },
        "outputId": "245cde54-0f74-4c8c-a8b6-1153580696d1"
      },
      "outputs": [
        {
          "output_type": "display_data",
          "data": {
            "text/html": [
              "<style>\n",
              ".list-inline {list-style: none; margin:0; padding: 0}\n",
              ".list-inline>li {display: inline-block}\n",
              ".list-inline>li:not(:last-child)::after {content: \"\\00b7\"; padding: 0 .5ex}\n",
              "</style>\n",
              "<ol class=list-inline><li>1.23643768787465</li><li>0.004</li><li>1.06207315272551</li><li>0</li></ol>\n"
            ],
            "text/markdown": "1. 1.23643768787465\n2. 0.004\n3. 1.06207315272551\n4. 0\n\n\n",
            "text/latex": "\\begin{enumerate*}\n\\item 1.23643768787465\n\\item 0.004\n\\item 1.06207315272551\n\\item 0\n\\end{enumerate*}\n",
            "text/plain": [
              "[1] 1.236438 0.004000 1.062073 0.000000"
            ]
          },
          "metadata": {}
        }
      ],
      "source": [
        "# WRITE YOUR CODE HERE\n",
        "#install.packages('mediation')\n",
        "library(mediation)\n",
        "\n",
        "run_analysis <- function(simulated_data){\n",
        "  fitM <- lm(x ~ age, data=simulated_data) \n",
        "  fitY <- lm(c ~ x + age, data=simulated_data) \n",
        "  fit_mediate <- mediate(fitM, fitY, treat = 'age', mediator = 'x')\n",
        "  return(c(fit_mediate$d0, fit_mediate$d0.p, fit_mediate$z0, fit_mediate$z0.p))\n",
        "}\n",
        "\n",
        "# run on previously simulated data and print\n",
        "run_analysis(dat)"
      ]
    },
    {
      "cell_type": "markdown",
      "metadata": {
        "id": "bHxz5W2r5s79"
      },
      "source": [
        "---\n",
        "## 3. `repeat_analysis()` function (3 pts)"
      ]
    },
    {
      "cell_type": "markdown",
      "metadata": {
        "id": "G_jvc1XQBCpH"
      },
      "source": [
        "Next fill in the function `repeat_analysis()` below so that it simulates and analyzes data `num_simulations` times. Store the outputs from each simulation in the `simouts` matrix. Calculate and return the coverage across all the simulations run for both ACME and ADE."
      ]
    },
    {
      "cell_type": "code",
      "execution_count": null,
      "metadata": {
        "id": "NheOpBDsBBo9"
      },
      "outputs": [],
      "source": [
        "repeat_analysis <- function(num_simulations, alpha, sample_size, age_lo, age_hi, \n",
        "        beta_xa, beta_x0, sd_x, beta_ca, beta_cx, beta_c0, sd_c) {\n",
        "    # Initialize simouts matrix for storing each output from run_analysis()\n",
        "    simouts <- matrix(rep(NA, num_simulations*4), nrow=num_simulations, ncol=4)\n",
        "    \n",
        "    # Start simulating\n",
        "    for (i in 1:num_simulations) {\n",
        "      # simulate data\n",
        "      dat <- simulate_data(sample_size, age_lo, age_hi, beta_xa, beta_x0, \n",
        "                           sd_x, beta_ca, beta_cx, beta_c0, sd_c)\n",
        "      \n",
        "      # fit mediation model and save effect estimates and store\n",
        "      simouts[i,] <- run_analysis(dat) \n",
        "    }\n",
        "    \n",
        "    # Calculate coverage for both ACME and ADE estimates using p-values in simouts\n",
        "    ACME_cov = mean(simouts[,2] <= alpha)\n",
        "    ADE_cov =  mean(simouts[,4] <= alpha)\n",
        "\n",
        "    return(list(ACME_cov = ACME_cov, ADE_cov = ADE_cov))\n",
        "}"
      ]
    },
    {
      "cell_type": "markdown",
      "metadata": {
        "id": "bM5J5pYyQoRL"
      },
      "source": [
        "Now run the `repeat_analysis()` function using the same parameter settings as above, for 10 simulations, with an alpha criterion of 0.01. "
      ]
    },
    {
      "cell_type": "code",
      "execution_count": null,
      "metadata": {
        "id": "RpURGbZQQlEK",
        "colab": {
          "base_uri": "https://localhost:8080/",
          "height": 114
        },
        "outputId": "092e1161-7482-47c7-ac9b-6fb1cff0fec1"
      },
      "outputs": [
        {
          "output_type": "display_data",
          "data": {
            "text/html": [
              "<dl>\n",
              "\t<dt>$ACME_cov</dt>\n",
              "\t\t<dd>0.9</dd>\n",
              "\t<dt>$ADE_cov</dt>\n",
              "\t\t<dd>0.5</dd>\n",
              "</dl>\n"
            ],
            "text/markdown": "$ACME_cov\n:   0.9\n$ADE_cov\n:   0.5\n\n\n",
            "text/latex": "\\begin{description}\n\\item[\\$ACME\\_cov] 0.9\n\\item[\\$ADE\\_cov] 0.5\n\\end{description}\n",
            "text/plain": [
              "$ACME_cov\n",
              "[1] 0.9\n",
              "\n",
              "$ADE_cov\n",
              "[1] 0.5\n"
            ]
          },
          "metadata": {}
        }
      ],
      "source": [
        "# WRITE YOUR CODE HERE\n",
        "coverages <- repeat_analysis(num_simulations = 10, alpha = 0.01, sample_size, \n",
        "      age_lo, age_hi, beta_xa, beta_x0, sd_x, beta_ca, beta_cx, beta_c0, sd_c)\n",
        "\n",
        "# print ACME and ADE coverages\n",
        "coverages"
      ]
    },
    {
      "cell_type": "markdown",
      "metadata": {
        "id": "imIoN4w65s7_"
      },
      "source": [
        "---\n",
        "## 4. Testing different sample sizes (2 pts)"
      ]
    },
    {
      "cell_type": "markdown",
      "metadata": {
        "id": "CzeTaoY7SaXv"
      },
      "source": [
        "Finally, do the same thing (10 simulations, alpha criterion of 0.01) but for 5 different sample sizes: 50, 75, 100, 125, 150. You can do this using `map` (as in the tutorial), or a simple `for` loop, or by calculating each individually. Up to you! This should take around 3 minutes to run. "
      ]
    },
    {
      "cell_type": "code",
      "execution_count": null,
      "metadata": {
        "id": "mp-a19XsS8Md"
      },
      "outputs": [],
      "source": [
        "# WRITE YOUR CODE HERE\n",
        "library(tidyverse)\n",
        "\n",
        "dat <- expand.grid(samps = c(50,75,100,125,150)) \n",
        "\n",
        "res <- dat %>%\n",
        "  mutate(ACME_COV = map(samps, ~ repeat_analysis(num_simulations = 10, \n",
        "  alpha = 0.01, sample_size, age_lo, age_hi, beta_xa, beta_x0, sd_x, beta_ca, \n",
        "  beta_cx, beta_c0, sd_c)$ACME_cov)) %>% # ACME Coverage\n",
        "  mutate(ADE_COV = map(samps, ~ repeat_analysis(num_simulations = 10, \n",
        "  alpha = 0.01, sample_size, age_lo, age_hi, beta_xa, beta_x0, sd_x, beta_ca, \n",
        "  beta_cx, beta_c0, sd_c)$ADE_cov)) # ADE Coverage\n",
        "\n",
        "# Note: I am unsure how to avoid making two calls to map() here, which I know is\n",
        "# not particularly efficient. I think map2() allows for parallel looping, but I\n",
        "# think its possible I just don't understand how to assign list output from a \n",
        "# mapped function to new columns in a dataframe. "
      ]
    },
    {
      "cell_type": "markdown",
      "metadata": {
        "id": "akJwKCB7dkDw"
      },
      "source": [
        "Print your results. "
      ]
    },
    {
      "cell_type": "code",
      "execution_count": null,
      "metadata": {
        "id": "gIkkWTG2aR4d",
        "scrolled": true,
        "colab": {
          "base_uri": "https://localhost:8080/",
          "height": 255
        },
        "outputId": "c7141ada-81aa-4928-9b46-34ff4690f549"
      },
      "outputs": [
        {
          "output_type": "display_data",
          "data": {
            "text/html": [
              "<table class=\"dataframe\">\n",
              "<caption>A data.frame: 5 × 3</caption>\n",
              "<thead>\n",
              "\t<tr><th scope=col>samps</th><th scope=col>ACME_COV</th><th scope=col>ADE_COV</th></tr>\n",
              "\t<tr><th scope=col>&lt;dbl&gt;</th><th scope=col>&lt;list&gt;</th><th scope=col>&lt;list&gt;</th></tr>\n",
              "</thead>\n",
              "<tbody>\n",
              "\t<tr><td> 50</td><td>0.5</td><td>0.3</td></tr>\n",
              "\t<tr><td> 75</td><td>0.7</td><td>0.9</td></tr>\n",
              "\t<tr><td>100</td><td>0.5</td><td>0.7</td></tr>\n",
              "\t<tr><td>125</td><td>0.9</td><td>0.8</td></tr>\n",
              "\t<tr><td>150</td><td>0.9</td><td>0.9</td></tr>\n",
              "</tbody>\n",
              "</table>\n"
            ],
            "text/markdown": "\nA data.frame: 5 × 3\n\n| samps &lt;dbl&gt; | ACME_COV &lt;list&gt; | ADE_COV &lt;list&gt; |\n|---|---|---|\n|  50 | 0.5 | 0.3 |\n|  75 | 0.7 | 0.9 |\n| 100 | 0.5 | 0.7 |\n| 125 | 0.9 | 0.8 |\n| 150 | 0.9 | 0.9 |\n\n",
            "text/latex": "A data.frame: 5 × 3\n\\begin{tabular}{lll}\n samps & ACME\\_COV & ADE\\_COV\\\\\n <dbl> & <list> & <list>\\\\\n\\hline\n\t  50 & 0.5 & 0.3\\\\\n\t  75 & 0.7 & 0.9\\\\\n\t 100 & 0.5 & 0.7\\\\\n\t 125 & 0.9 & 0.8\\\\\n\t 150 & 0.9 & 0.9\\\\\n\\end{tabular}\n",
            "text/plain": [
              "  samps ACME_COV ADE_COV\n",
              "1  50   0.5      0.3    \n",
              "2  75   0.7      0.9    \n",
              "3 100   0.5      0.7    \n",
              "4 125   0.9      0.8    \n",
              "5 150   0.9      0.9    "
            ]
          },
          "metadata": {}
        }
      ],
      "source": [
        "res"
      ]
    },
    {
      "cell_type": "markdown",
      "metadata": {
        "id": "q3Oo6npB5s8B"
      },
      "source": [
        "## 5. Reflection (2 pts)"
      ]
    },
    {
      "cell_type": "markdown",
      "metadata": {
        "id": "tpbGkul2dr-5"
      },
      "source": [
        "If this were a real power analysis, we'd want to run more simulations per sample size (to get a more precise estimate of power) and we may also want to test out some other values of the parameters we used to simulate our data. However, what would you conclude just based on the results above? \n",
        "\n",
        "> Based on the results of the simulations, we acheive maximum coverage of both the indirect and direct effects for an alpha level of .01 at a sample size of 150. \n",
        "> "
      ]
    },
    {
      "cell_type": "markdown",
      "metadata": {
        "id": "RcCo3QOifUi5"
      },
      "source": [
        "**Given** how we generated the data, why was the direct effect harder to detect than the mediated effect?\n",
        "> Given that c was generated using information from both x and age, the mediated effect is more present in the simulated data than the direct effect of age on c. As a result, the direct effect was harder to detect in the MC simulation than the mediated effect."
      ]
    },
    {
      "cell_type": "markdown",
      "metadata": {
        "id": "C4MPECMmZXqe"
      },
      "source": [
        "**DUE:** 5pm EST, April 5, 2023"
      ]
    },
    {
      "cell_type": "markdown",
      "metadata": {
        "id": "r9GUofXN4BVy"
      },
      "source": [
        "**IMPORTANT** Did you collaborate with anyone on this assignment? If so, list their names here. \n",
        "> *Someone's Name*"
      ]
    }
  ],
  "metadata": {
    "colab": {
      "provenance": []
    },
    "kernelspec": {
      "display_name": "R",
      "language": "R",
      "name": "ir"
    },
    "language_info": {
      "codemirror_mode": "r",
      "file_extension": ".r",
      "mimetype": "text/x-r-source",
      "name": "R",
      "pygments_lexer": "r",
      "version": "4.2.0"
    }
  },
  "nbformat": 4,
  "nbformat_minor": 0
}