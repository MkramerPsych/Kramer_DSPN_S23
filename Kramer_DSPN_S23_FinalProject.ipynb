{
 "cells": [
  {
   "cell_type": "markdown",
   "metadata": {},
   "source": [
    "# Examining Parietal Contributions to Object Recognition\n",
    "## Max Kramer, Behrmann Lab\n",
    "Final project, Data Science for Psychology and Neuroscience, Fall 2023\n",
    "Prof. Tim Verstynen, TA Fiona Horner\n",
    "\n",
    "---"
   ]
  },
  {
   "cell_type": "markdown",
   "metadata": {},
   "source": [
    "### 1. Background"
   ]
  },
  {
   "cell_type": "markdown",
   "metadata": {},
   "source": [
    "Neuroscientists have worked for decades to understand how our cognitive abilities are realized in the brain. In the domain of vision science, one major discovery suggested that the visual system is organized along two processing streams: a dorsal stream that enables our abilities to locate and interact with objects in the world around us, and a ventral stream that enables our extraordinary recognition abilities (Mishkin et al., 1983; Ungerleider & Haxby, 1994). This 'two streams' hypothesis has been the prevailing model of the visual system for many years, but recent results suggesting that posterior parietal cortex (PPC), a region in the dorsal stream may compute object features relevant to recognition (Bracci & Op de Beeck, 2016; Freud et al., 2017) has called the separation of these streams into question.\n",
    "\n",
    "One recent study put forward the hypothesis that areas in the dorsal stream may compute the spatial relations between an object's component parts, helping to subserve object recognition (Ayzenberg & Berhmann, 2022). One key result from Ayzenberg and Behrmann's analysis was that activity in dorsal cortex could be used to decode object category at levels similar to traditionally examined ventral cortical areas. This was accomplished through the use of a task wherein participants saw exemplars of one of five object categories (boats, cars, lamps, cameras, guitars). Participants saw five exemplars of each category five times in a given run, leading to 125 stimuli per run.\n",
    "\n",
    "While these recent analyses have found evidence that sheds new light on the functional organization of vision, the studies rely heavily on functional Magnetic Resonance Imaging (fMRI), which does not possess the necessary temporal resolution to examine fine dynamics within the brain that may be critical for elucidating the interplay between dorsal and ventral visual areas. Here, I present human intracranial recording (iEEG) data from a participant (age 17) with drug-resistant epilepsy. This patient had electrode probes embedded across the left parietal lobe as part of clinical evaluation (see figure below) and performed the object image viewing task taken from (Ayzenberg & Behrmann, 2022) described above."
   ]
  },
  {
   "cell_type": "markdown",
   "metadata": {},
   "source": [
    "![title](Final_project_assets/iEEG.png)\n"
   ]
  },
  {
   "cell_type": "markdown",
   "metadata": {},
   "source": [
    "Figure: a 3d visualization of the patient's brain with iEEG electrodes represented by dots."
   ]
  },
  {
   "cell_type": "markdown",
   "metadata": {},
   "source": [
    "---"
   ]
  },
  {
   "cell_type": "markdown",
   "metadata": {},
   "source": [
    "### 2. Variables"
   ]
  },
  {
   "cell_type": "markdown",
   "metadata": {},
   "source": [
    "After data collection, the raw iEEG traces were then preprocessed using *RAVE* (Magnotti et al., 2021). \n",
    "1. The data were first filtered using a notch filter at 60Hz to remove power-line artifacts. \n",
    "2. Power and phase data were collected by transforming the raw voltages using a continuous wavelet transform (morlet wavelets, 2Hz step, 2Hz-200Hz range).\n",
    "3. The data were then re-referenced using a common-average reference scheme, excluding bad electrodes identified visually\n",
    "4. The data was epoched from 1 second before stimulus onset to 2 seconds after stimulus onset.\n",
    "\n",
    "After preprocessing, the data was downloaded from RAVE and imported into this notebook, along with the timing file which contains the stimuli participants saw on each trial (see Data Organization). \n",
    "\n",
    "The structure of variables for my analyses is as follows:\n",
    "\n",
    "- **My dependent variable (Y) is the category of stimuli that was displayed on each trial of the task**. The variable can take one of 5 values (boat, car, lamp, camera, guitar). The total number of labels is 500, representing 125 stimulus presentations per run multiplied by 4 runs of data collected\n",
    "\n",
    "- **My independent variables (X) are the neural activity across 16 electrode contacts in dorsal cortex from 1 second before stimulus onset to 2 seconds after stimulus onset (301 time points total)**. This data reflect power averaged across 70-150Hz, also called broadband gamma activity (BGA), which is thought to reflect population neural activity proximate to a given electrode. After data cleaning (see Data Organization), the final size of X is [201, 500]"
   ]
  },
  {
   "cell_type": "markdown",
   "metadata": {},
   "source": [
    "---"
   ]
  },
  {
   "cell_type": "markdown",
   "metadata": {},
   "source": [
    "### 3. Hypotheses"
   ]
  },
  {
   "cell_type": "markdown",
   "metadata": {},
   "source": [
    "#### 3.1: Goal"
   ]
  },
  {
   "cell_type": "markdown",
   "metadata": {},
   "source": [
    "My overall goal is to determine *whether activity in dorsal cortex as measured in the iEEG data can support object recognition*. This classification problem seeks to fit a model of the form \n",
    "\n",
    "$$ \\begin{Bmatrix}\n",
    "y1 \\\\\n",
    "... \\\\\n",
    "yn \\\\\n",
    "\\end{Bmatrix} = f(\\begin{Bmatrix}\n",
    "x_1,_1 & ... & x_1,_p\\\\\n",
    "... & ... & ... \\\\\n",
    "x_n,_1 & ... & x_n,_p\\\\\n",
    "\\end{Bmatrix}) $$\n",
    "\n",
    "where Y is *stimulus category* and X is the *time series across trials*.\n",
    "\n",
    "Rather than attempting to attempting to 'fish' across the entire hemisphere to find electrodes that can decode object category, I have instead selected a group of electrodes in dorsal cortex and limited the analysis to these electrodes *a priori*. In the spirit of progressing from simpler to more complex models, I evaluate three models for *f* \n",
    "1. K-Nearest Neighbors\n",
    "2. Principal Component Regression \n",
    "3. Regularized (LASSO) Regression "
   ]
  },
  {
   "cell_type": "markdown",
   "metadata": {},
   "source": [
    "#### 3.2 KNN"
   ]
  },
  {
   "cell_type": "markdown",
   "metadata": {},
   "source": [
    "K-Nearest Neighbors is a non-parametric method based on the assumption that observations in X that cluster together likely come from the same group. This serves as an excellent starting point to examine whether or not similarity in neural activity is predictive of stimulus category.\n",
    "\n",
    "Formally, our hypothesis is $$ \\hat{y} = argmax(y_j) \\sum_{i=1}^{k} w_i [y_i = y_j] $$\n",
    "\n",
    "where *y_j* is a predicted stimulus category (boat, car, camera, lamp, or guitar), *k* is the number of neighbors queried, *w_i* is the weight (which here represents the distance from a given observation *x*), and *[y_i = y_j]* is a piecewise function that returns 1 if *y_i = y_j* and 0 otherwise. The *argmax()* represents the fact that KNN returns the 'popular vote' for a given label *y_j*"
   ]
  },
  {
   "cell_type": "markdown",
   "metadata": {},
   "source": [
    "#### 3.3 Principal Components Regression"
   ]
  },
  {
   "cell_type": "markdown",
   "metadata": {},
   "source": [
    "Given KNNs sensitivity to model dimensionality, it is entirely possible that KNN will struggle to predict stimulus category from the high-dimensional neural data. One way to address this is by reducing the dimensionality of X through principal components regression (PCR). PCR differs from traditional linear regression by first finding a lower dimensional set of components that explain the majority of variance in X, and then using the strongest components as predictor variables.\n",
    "\n",
    "Formally, our hypothesis is $$ \\hat{y} = \\sum_{m=1}^{k} * \\hat{θ}_m * Z_i,_m $$\n",
    "\n",
    "Where y is stimulus category, *k* is the number of components required to explain 95% of the variance in X, Z is the set of *m* components generated by the PCA on the neural timeseries, and θ is a set of *learned* regression coefficients on Z. "
   ]
  },
  {
   "cell_type": "markdown",
   "metadata": {},
   "source": [
    "#### 3.4 Regularized (LASSO) Regression"
   ]
  },
  {
   "cell_type": "markdown",
   "metadata": {},
   "source": [
    "While PCR does reduce the effective dimensionality of the model, the components *Z* used in (3.3) are still based on the entire dataset. It may be possible that there are a large number of time points in the neural data that are not meaningfully associated with stimulus category. In this case, we require a model that can remove these 'weak effects'. LASSO regression differs from traditional regression by employing a penalty against these weak effects such that betas can reach 0.\n",
    "\n",
    "Formally, our hypothesis is $$ \\hat{y} = X\\hat{β} $$\n",
    "\n",
    "Where y is stimulus category and X is the neural timeseries. This is the general form of linear regression. The LASSO penalty is applied to the OLS objective function $$ min( \\sum_{i=1}^{n}(y_i - \\sum_{j=1}^{p}\\hat{β}X_i,_j)^2 + \\hat{λ}\\sum_{j=1}^{p} |\\hat{β_j}|)  $$\n",
    "\n",
    "The addition of the parameter λ (the sparsity parameter) allows weak effects to be penalized. "
   ]
  },
  {
   "cell_type": "markdown",
   "metadata": {},
   "source": [
    "---"
   ]
  },
  {
   "cell_type": "markdown",
   "metadata": {},
   "source": [
    "### 4. Data Organization"
   ]
  },
  {
   "cell_type": "markdown",
   "metadata": {},
   "source": [
    "The overall structure of variables is discussed above (see Variables), but the organization of the data into a final, tidy format usable in our analyses involves several steps\n",
    "\n",
    "1. The raw timeseries data from RAVE is in .mat format, which is not a format R can natively read. We use the `R.matlab` package to read in the timeseries data. The labels (stimulus categories) are stored in .csv format, so we call `read_csv()` to import them (section 4.0).\n",
    "2. The initial task presented 5 exemplars of each category, so we must collapse the label values from the exemplar to category levels. This is accomplished using the `gsub()` function (sections 4.1, 4.3). \n",
    "3. The initial structure of the neural data is [frequencies, timepoints, trials, electrodes]. We are only interested in the gamma range (70-150Hz), so we collapse across that range to reach [timepoints, trials, electrodes] (section 4.2).\n",
    "4. As stated in section 2, the neural data contains time information from both the baseline and presentation periods. We are interested in the presentation period, so we further segment the data to exclude the baseline activity (section 4.2).\n",
    "5. To avoid 'fishing' for sensitive electrodes, we then collapse across our set of electrodes and transpose to reach [trials, timepoints], the final form of X (section 4.3). This data is in tidy format with no missing data (section 4.3).\n",
    "6. We combine X and Y together into a `full_dataset` dataframe. This dataframe also contains 4 rows unrelated to stimulus presentation (task start markers), so we drop those rows. Our final data is of size [trials, timepoints]. This data is then segmented into training (80%) and testing (20%) sets for use in the analyses (section 4.3)."
   ]
  },
  {
   "cell_type": "markdown",
   "metadata": {},
   "source": [
    "#### 4.0 Initial Setup"
   ]
  },
  {
   "cell_type": "code",
   "execution_count": 374,
   "metadata": {},
   "outputs": [
    {
     "name": "stderr",
     "output_type": "stream",
     "text": [
      "\u001b[1mRows: \u001b[22m\u001b[34m504\u001b[39m \u001b[1mColumns: \u001b[22m\u001b[34m4\u001b[39m\n",
      "\u001b[36m──\u001b[39m \u001b[1mColumn specification\u001b[22m \u001b[36m────────────────────────────────────────────────────────────────────────────────────────────────────────────────────────────────────────────────\u001b[39m\n",
      "\u001b[1mDelimiter:\u001b[22m \",\"\n",
      "\u001b[31mchr\u001b[39m (2): Block, Condition\n",
      "\u001b[32mdbl\u001b[39m (2): Time, Trial\n",
      "\n",
      "\u001b[36mℹ\u001b[39m Use `spec()` to retrieve the full column specification for this data.\n",
      "\u001b[36mℹ\u001b[39m Specify the column types or set `show_col_types = FALSE` to quiet this message.\n"
     ]
    }
   ],
   "source": [
    "# load required libraries for project\n",
    "library(tidyverse) # for many things\n",
    "library(R.matlab) # to load sEEG data\n",
    "library(reshape2) # for melt\n",
    "library(s2dv) # for MeanDims()\n",
    "library(caret) # for confusion matrices\n",
    "library(pls) # for principal component methods\n",
    "library(class) # for KNN\n",
    "library(glmnet) # for LASSO\n",
    "set.seed(1) # for reproducibility\n",
    "options(warn = -1) # suppress warnings\n",
    "\n",
    "# Load in sEEG data and epoch file\n",
    "raw_freq_data <- readMat('Final_project_assets/data.mat')\n",
    "epoch <- read_csv('Final_project_assets/epoch_docnet.csv')"
   ]
  },
  {
   "cell_type": "markdown",
   "metadata": {},
   "source": [
    "#### 4.1: Prepare Y"
   ]
  },
  {
   "cell_type": "code",
   "execution_count": 375,
   "metadata": {},
   "outputs": [
    {
     "data": {
      "text/plain": [
       "labels\n",
       "  boat_1   boat_2   boat_3   boat_4   boat_5 camera_1 camera_2 camera_3 \n",
       "      20       20       20       20       20       20       20       20 \n",
       "camera_4 camera_5    car_1    car_2    car_3    car_4    car_5 guitar_1 \n",
       "      20       20       20       20       20       20       20       20 \n",
       "guitar_2 guitar_3 guitar_4 guitar_5   lamp_1   lamp_2   lamp_3   lamp_4 \n",
       "      20       20       20       20       20       20       20       20 \n",
       "  lamp_5    start \n",
       "      20        4 "
      ]
     },
     "metadata": {},
     "output_type": "display_data"
    }
   ],
   "source": [
    "# extract stimulus labels\n",
    "labels <- epoch$Condition\n",
    "\n",
    "# visualize outputs\n",
    "table(labels)\n",
    "\n",
    "# we will later collapse these labels down to the five categories (boat, camera, car, guitar, lamp) (see 4.3)"
   ]
  },
  {
   "cell_type": "markdown",
   "metadata": {},
   "source": [
    "#### 4.2 Prepare X"
   ]
  },
  {
   "cell_type": "code",
   "execution_count": 376,
   "metadata": {},
   "outputs": [
    {
     "data": {
      "text/html": [
       "<style>\n",
       ".list-inline {list-style: none; margin:0; padding: 0}\n",
       ".list-inline>li {display: inline-block}\n",
       ".list-inline>li:not(:last-child)::after {content: \"\\00b7\"; padding: 0 .5ex}\n",
       "</style>\n",
       "<ol class=list-inline><li>201</li><li>504</li><li>16</li></ol>\n"
      ],
      "text/latex": [
       "\\begin{enumerate*}\n",
       "\\item 201\n",
       "\\item 504\n",
       "\\item 16\n",
       "\\end{enumerate*}\n"
      ],
      "text/markdown": [
       "1. 201\n",
       "2. 504\n",
       "3. 16\n",
       "\n",
       "\n"
      ],
      "text/plain": [
       "[1] 201 504  16"
      ]
     },
     "metadata": {},
     "output_type": "display_data"
    }
   ],
   "source": [
    "# extract stHFBB from raw data\n",
    "get_stHFBB_from_raw <- function(raw_freq_data){\n",
    "    stHFBB <- raw_freq_data$baselined[35:75,,,] # select 70-150Hz (2Hz step)\n",
    "    stHFBB <- MeanDims(stHFBB, c(1)) # average across gamma range\n",
    "    return(stHFBB)\n",
    "}\n",
    "\n",
    "stHFBB <- get_stHFBB_from_raw(raw_freq_data) \n",
    "\n",
    "# extract presentation period (0-2sec after onset)\n",
    "segment_run_stHFBB <- function(stHFBB){\n",
    "    baseline <- stHFBB[1:100,,]\n",
    "    presentation <- stHFBB[101:301,,]\n",
    "    return(list(presentation=presentation, baseline=baseline))\n",
    "}\n",
    "\n",
    "segmented_data <- segment_run_stHFBB(stHFBB)\n",
    "\n",
    "# examine dimensions of presentation period\n",
    "dim(segmented_data$presentation)"
   ]
  },
  {
   "cell_type": "markdown",
   "metadata": {},
   "source": [
    "#### 4.3: Combine X and Y & split into train and test"
   ]
  },
  {
   "cell_type": "code",
   "execution_count": 377,
   "metadata": {},
   "outputs": [
    {
     "data": {
      "text/html": [
       "<table class=\"dataframe\">\n",
       "<caption>A data.frame: 6 × 202</caption>\n",
       "<thead>\n",
       "\t<tr><th></th><th scope=col>label</th><th scope=col>time.1</th><th scope=col>time.2</th><th scope=col>time.3</th><th scope=col>time.4</th><th scope=col>time.5</th><th scope=col>time.6</th><th scope=col>time.7</th><th scope=col>time.8</th><th scope=col>time.9</th><th scope=col>⋯</th><th scope=col>time.192</th><th scope=col>time.193</th><th scope=col>time.194</th><th scope=col>time.195</th><th scope=col>time.196</th><th scope=col>time.197</th><th scope=col>time.198</th><th scope=col>time.199</th><th scope=col>time.200</th><th scope=col>time.201</th></tr>\n",
       "\t<tr><th></th><th scope=col>&lt;chr&gt;</th><th scope=col>&lt;dbl&gt;</th><th scope=col>&lt;dbl&gt;</th><th scope=col>&lt;dbl&gt;</th><th scope=col>&lt;dbl&gt;</th><th scope=col>&lt;dbl&gt;</th><th scope=col>&lt;dbl&gt;</th><th scope=col>&lt;dbl&gt;</th><th scope=col>&lt;dbl&gt;</th><th scope=col>&lt;dbl&gt;</th><th scope=col>⋯</th><th scope=col>&lt;dbl&gt;</th><th scope=col>&lt;dbl&gt;</th><th scope=col>&lt;dbl&gt;</th><th scope=col>&lt;dbl&gt;</th><th scope=col>&lt;dbl&gt;</th><th scope=col>&lt;dbl&gt;</th><th scope=col>&lt;dbl&gt;</th><th scope=col>&lt;dbl&gt;</th><th scope=col>&lt;dbl&gt;</th><th scope=col>&lt;dbl&gt;</th></tr>\n",
       "</thead>\n",
       "<tbody>\n",
       "\t<tr><th scope=row>1</th><td>guitar_1</td><td>  5.235273</td><td>  3.714067</td><td>  3.610052</td><td>  8.023355</td><td>14.433912</td><td>15.802578</td><td>10.2977104</td><td>  5.746813</td><td>  7.601609</td><td>⋯</td><td>-23.4869694</td><td>-29.192622</td><td>-29.007977</td><td>-17.581720</td><td> 8.052074</td><td> 35.077546</td><td> 49.489703</td><td> 48.387900</td><td> 38.78088</td><td> 27.355345</td></tr>\n",
       "\t<tr><th scope=row>2</th><td>camera_1</td><td> 31.776833</td><td> 26.325926</td><td> 12.518657</td><td>  3.970120</td><td> 4.485631</td><td> 4.121932</td><td> 0.4176565</td><td> -7.690071</td><td>-16.259809</td><td>⋯</td><td> -0.3590704</td><td>  8.439550</td><td> 15.267219</td><td> 16.460763</td><td>11.139184</td><td>  7.800212</td><td>  5.799287</td><td> -1.998679</td><td>-14.46423</td><td>-22.337159</td></tr>\n",
       "\t<tr><th scope=row>3</th><td>car_5   </td><td>-14.066136</td><td>-14.472327</td><td>-16.675717</td><td>-15.619563</td><td>-6.260547</td><td> 8.754186</td><td>20.1598017</td><td> 21.771115</td><td> 15.283065</td><td>⋯</td><td> 21.6067551</td><td> 17.178009</td><td>  8.388105</td><td> -1.184523</td><td>-9.927384</td><td>-14.943249</td><td>-15.723932</td><td>-15.055579</td><td>-18.25965</td><td>-20.975430</td></tr>\n",
       "\t<tr><th scope=row>4</th><td>lamp_4  </td><td>-15.742692</td><td>-17.198101</td><td> -9.958905</td><td>  3.854324</td><td>16.663429</td><td>19.336841</td><td> 9.0779848</td><td> -2.869893</td><td> -9.199704</td><td>⋯</td><td> -8.4175027</td><td>-14.265105</td><td>-12.151585</td><td> -3.743882</td><td> 5.074459</td><td> 11.649649</td><td> 15.304358</td><td> 16.366809</td><td> 18.60299</td><td> 21.907298</td></tr>\n",
       "\t<tr><th scope=row>5</th><td>guitar_3</td><td> 38.473908</td><td> 45.274650</td><td> 38.389050</td><td> 21.018994</td><td> 5.406461</td><td>-1.775913</td><td>-0.2427102</td><td>  3.359289</td><td>  6.194948</td><td>⋯</td><td> 16.3517652</td><td> 22.263288</td><td> 25.428368</td><td> 27.561147</td><td>32.647332</td><td> 39.863441</td><td> 40.766495</td><td> 34.253570</td><td> 22.73498</td><td>  7.306532</td></tr>\n",
       "\t<tr><th scope=row>6</th><td>car_1   </td><td>-13.493463</td><td> -1.854326</td><td> 16.865998</td><td> 32.400073</td><td>30.290179</td><td>14.003277</td><td>-4.9594392</td><td>-13.170213</td><td> -6.300199</td><td>⋯</td><td> -1.0813752</td><td> -1.761534</td><td>  2.036148</td><td>  8.994779</td><td>18.421539</td><td> 21.028021</td><td> 17.638667</td><td> 12.047594</td><td> 10.53890</td><td>  8.760997</td></tr>\n",
       "</tbody>\n",
       "</table>\n"
      ],
      "text/latex": [
       "A data.frame: 6 × 202\n",
       "\\begin{tabular}{r|lllllllllllllllllllll}\n",
       "  & label & time.1 & time.2 & time.3 & time.4 & time.5 & time.6 & time.7 & time.8 & time.9 & ⋯ & time.192 & time.193 & time.194 & time.195 & time.196 & time.197 & time.198 & time.199 & time.200 & time.201\\\\\n",
       "  & <chr> & <dbl> & <dbl> & <dbl> & <dbl> & <dbl> & <dbl> & <dbl> & <dbl> & <dbl> & ⋯ & <dbl> & <dbl> & <dbl> & <dbl> & <dbl> & <dbl> & <dbl> & <dbl> & <dbl> & <dbl>\\\\\n",
       "\\hline\n",
       "\t1 & guitar\\_1 &   5.235273 &   3.714067 &   3.610052 &   8.023355 & 14.433912 & 15.802578 & 10.2977104 &   5.746813 &   7.601609 & ⋯ & -23.4869694 & -29.192622 & -29.007977 & -17.581720 &  8.052074 &  35.077546 &  49.489703 &  48.387900 &  38.78088 &  27.355345\\\\\n",
       "\t2 & camera\\_1 &  31.776833 &  26.325926 &  12.518657 &   3.970120 &  4.485631 &  4.121932 &  0.4176565 &  -7.690071 & -16.259809 & ⋯ &  -0.3590704 &   8.439550 &  15.267219 &  16.460763 & 11.139184 &   7.800212 &   5.799287 &  -1.998679 & -14.46423 & -22.337159\\\\\n",
       "\t3 & car\\_5    & -14.066136 & -14.472327 & -16.675717 & -15.619563 & -6.260547 &  8.754186 & 20.1598017 &  21.771115 &  15.283065 & ⋯ &  21.6067551 &  17.178009 &   8.388105 &  -1.184523 & -9.927384 & -14.943249 & -15.723932 & -15.055579 & -18.25965 & -20.975430\\\\\n",
       "\t4 & lamp\\_4   & -15.742692 & -17.198101 &  -9.958905 &   3.854324 & 16.663429 & 19.336841 &  9.0779848 &  -2.869893 &  -9.199704 & ⋯ &  -8.4175027 & -14.265105 & -12.151585 &  -3.743882 &  5.074459 &  11.649649 &  15.304358 &  16.366809 &  18.60299 &  21.907298\\\\\n",
       "\t5 & guitar\\_3 &  38.473908 &  45.274650 &  38.389050 &  21.018994 &  5.406461 & -1.775913 & -0.2427102 &   3.359289 &   6.194948 & ⋯ &  16.3517652 &  22.263288 &  25.428368 &  27.561147 & 32.647332 &  39.863441 &  40.766495 &  34.253570 &  22.73498 &   7.306532\\\\\n",
       "\t6 & car\\_1    & -13.493463 &  -1.854326 &  16.865998 &  32.400073 & 30.290179 & 14.003277 & -4.9594392 & -13.170213 &  -6.300199 & ⋯ &  -1.0813752 &  -1.761534 &   2.036148 &   8.994779 & 18.421539 &  21.028021 &  17.638667 &  12.047594 &  10.53890 &   8.760997\\\\\n",
       "\\end{tabular}\n"
      ],
      "text/markdown": [
       "\n",
       "A data.frame: 6 × 202\n",
       "\n",
       "| <!--/--> | label &lt;chr&gt; | time.1 &lt;dbl&gt; | time.2 &lt;dbl&gt; | time.3 &lt;dbl&gt; | time.4 &lt;dbl&gt; | time.5 &lt;dbl&gt; | time.6 &lt;dbl&gt; | time.7 &lt;dbl&gt; | time.8 &lt;dbl&gt; | time.9 &lt;dbl&gt; | ⋯ ⋯ | time.192 &lt;dbl&gt; | time.193 &lt;dbl&gt; | time.194 &lt;dbl&gt; | time.195 &lt;dbl&gt; | time.196 &lt;dbl&gt; | time.197 &lt;dbl&gt; | time.198 &lt;dbl&gt; | time.199 &lt;dbl&gt; | time.200 &lt;dbl&gt; | time.201 &lt;dbl&gt; |\n",
       "|---|---|---|---|---|---|---|---|---|---|---|---|---|---|---|---|---|---|---|---|---|---|\n",
       "| 1 | guitar_1 |   5.235273 |   3.714067 |   3.610052 |   8.023355 | 14.433912 | 15.802578 | 10.2977104 |   5.746813 |   7.601609 | ⋯ | -23.4869694 | -29.192622 | -29.007977 | -17.581720 |  8.052074 |  35.077546 |  49.489703 |  48.387900 |  38.78088 |  27.355345 |\n",
       "| 2 | camera_1 |  31.776833 |  26.325926 |  12.518657 |   3.970120 |  4.485631 |  4.121932 |  0.4176565 |  -7.690071 | -16.259809 | ⋯ |  -0.3590704 |   8.439550 |  15.267219 |  16.460763 | 11.139184 |   7.800212 |   5.799287 |  -1.998679 | -14.46423 | -22.337159 |\n",
       "| 3 | car_5    | -14.066136 | -14.472327 | -16.675717 | -15.619563 | -6.260547 |  8.754186 | 20.1598017 |  21.771115 |  15.283065 | ⋯ |  21.6067551 |  17.178009 |   8.388105 |  -1.184523 | -9.927384 | -14.943249 | -15.723932 | -15.055579 | -18.25965 | -20.975430 |\n",
       "| 4 | lamp_4   | -15.742692 | -17.198101 |  -9.958905 |   3.854324 | 16.663429 | 19.336841 |  9.0779848 |  -2.869893 |  -9.199704 | ⋯ |  -8.4175027 | -14.265105 | -12.151585 |  -3.743882 |  5.074459 |  11.649649 |  15.304358 |  16.366809 |  18.60299 |  21.907298 |\n",
       "| 5 | guitar_3 |  38.473908 |  45.274650 |  38.389050 |  21.018994 |  5.406461 | -1.775913 | -0.2427102 |   3.359289 |   6.194948 | ⋯ |  16.3517652 |  22.263288 |  25.428368 |  27.561147 | 32.647332 |  39.863441 |  40.766495 |  34.253570 |  22.73498 |   7.306532 |\n",
       "| 6 | car_1    | -13.493463 |  -1.854326 |  16.865998 |  32.400073 | 30.290179 | 14.003277 | -4.9594392 | -13.170213 |  -6.300199 | ⋯ |  -1.0813752 |  -1.761534 |   2.036148 |   8.994779 | 18.421539 |  21.028021 |  17.638667 |  12.047594 |  10.53890 |   8.760997 |\n",
       "\n"
      ],
      "text/plain": [
       "  label    time.1     time.2     time.3     time.4     time.5    time.6   \n",
       "1 guitar_1   5.235273   3.714067   3.610052   8.023355 14.433912 15.802578\n",
       "2 camera_1  31.776833  26.325926  12.518657   3.970120  4.485631  4.121932\n",
       "3 car_5    -14.066136 -14.472327 -16.675717 -15.619563 -6.260547  8.754186\n",
       "4 lamp_4   -15.742692 -17.198101  -9.958905   3.854324 16.663429 19.336841\n",
       "5 guitar_3  38.473908  45.274650  38.389050  21.018994  5.406461 -1.775913\n",
       "6 car_1    -13.493463  -1.854326  16.865998  32.400073 30.290179 14.003277\n",
       "  time.7     time.8     time.9     ⋯ time.192    time.193   time.194  \n",
       "1 10.2977104   5.746813   7.601609 ⋯ -23.4869694 -29.192622 -29.007977\n",
       "2  0.4176565  -7.690071 -16.259809 ⋯  -0.3590704   8.439550  15.267219\n",
       "3 20.1598017  21.771115  15.283065 ⋯  21.6067551  17.178009   8.388105\n",
       "4  9.0779848  -2.869893  -9.199704 ⋯  -8.4175027 -14.265105 -12.151585\n",
       "5 -0.2427102   3.359289   6.194948 ⋯  16.3517652  22.263288  25.428368\n",
       "6 -4.9594392 -13.170213  -6.300199 ⋯  -1.0813752  -1.761534   2.036148\n",
       "  time.195   time.196  time.197   time.198   time.199   time.200  time.201  \n",
       "1 -17.581720  8.052074  35.077546  49.489703  48.387900  38.78088  27.355345\n",
       "2  16.460763 11.139184   7.800212   5.799287  -1.998679 -14.46423 -22.337159\n",
       "3  -1.184523 -9.927384 -14.943249 -15.723932 -15.055579 -18.25965 -20.975430\n",
       "4  -3.743882  5.074459  11.649649  15.304358  16.366809  18.60299  21.907298\n",
       "5  27.561147 32.647332  39.863441  40.766495  34.253570  22.73498   7.306532\n",
       "6   8.994779 18.421539  21.028021  17.638667  12.047594  10.53890   8.760997"
      ]
     },
     "metadata": {},
     "output_type": "display_data"
    },
    {
     "data": {
      "text/html": [
       "<style>\n",
       ".list-inline {list-style: none; margin:0; padding: 0}\n",
       ".list-inline>li {display: inline-block}\n",
       ".list-inline>li:not(:last-child)::after {content: \"\\00b7\"; padding: 0 .5ex}\n",
       "</style>\n",
       "<ol class=list-inline><li>400</li><li>202</li></ol>\n"
      ],
      "text/latex": [
       "\\begin{enumerate*}\n",
       "\\item 400\n",
       "\\item 202\n",
       "\\end{enumerate*}\n"
      ],
      "text/markdown": [
       "1. 400\n",
       "2. 202\n",
       "\n",
       "\n"
      ],
      "text/plain": [
       "[1] 400 202"
      ]
     },
     "metadata": {},
     "output_type": "display_data"
    },
    {
     "data": {
      "text/html": [
       "<style>\n",
       ".list-inline {list-style: none; margin:0; padding: 0}\n",
       ".list-inline>li {display: inline-block}\n",
       ".list-inline>li:not(:last-child)::after {content: \"\\00b7\"; padding: 0 .5ex}\n",
       "</style>\n",
       "<ol class=list-inline><li>100</li><li>202</li></ol>\n"
      ],
      "text/latex": [
       "\\begin{enumerate*}\n",
       "\\item 100\n",
       "\\item 202\n",
       "\\end{enumerate*}\n"
      ],
      "text/markdown": [
       "1. 100\n",
       "2. 202\n",
       "\n",
       "\n"
      ],
      "text/plain": [
       "[1] 100 202"
      ]
     },
     "metadata": {},
     "output_type": "display_data"
    }
   ],
   "source": [
    "# assign values to X and Y\n",
    "X <- t(MeanDims(segmented_data$presentation, c(3))) # X is average activity across all electrodes\n",
    "Y <- labels\n",
    "\n",
    "# create dataframe combining X and Y\n",
    "full_dataset <- data.frame(label=Y,time=X)\n",
    "full_dataset <- subset(full_dataset, label != 'start')\n",
    "\n",
    "# remove any missing values\n",
    "full_dataset <- full_dataset %>%\n",
    "    drop_na()\n",
    "\n",
    "# check values\n",
    "head(full_dataset)\n",
    "\n",
    "# split train and test set\n",
    "train_data <- subset(full_dataset, as.numeric(str_extract(label, \"\\\\d+\")) <= 4) # train on first four examples\n",
    "test_data <- subset(full_dataset, as.numeric(str_extract(label, \"\\\\d+\")) > 4) # test on remaining example\n",
    "\n",
    "# collapse individual stimulus labels to category labels\n",
    "train_data$label <- sub(\"_\\\\d+\", \"\", train_data$label)\n",
    "test_data$label <- sub(\"_\\\\d+\", \"\", test_data$label)\n",
    "\n",
    "# check dimensions of train and test sets\n",
    "dim(train_data)\n",
    "dim(test_data)\n",
    "\n",
    "# separate X and Y\n",
    "X_train <- train_data[,-1]\n",
    "Y_train <- train_data[,1]\n",
    "X_test <- test_data[,-1]\n",
    "Y_test <- test_data[,1]"
   ]
  },
  {
   "cell_type": "markdown",
   "metadata": {},
   "source": [
    "---"
   ]
  },
  {
   "cell_type": "markdown",
   "metadata": {},
   "source": [
    "### 5. Analysis"
   ]
  },
  {
   "cell_type": "markdown",
   "metadata": {},
   "source": [
    "#### 5.1: K-Nearest Neighbors"
   ]
  },
  {
   "cell_type": "markdown",
   "metadata": {},
   "source": [
    "##### 5.1.1 Content"
   ]
  },
  {
   "cell_type": "markdown",
   "metadata": {},
   "source": [
    "Given our neural data (X_train) and our category labels (Y_train), we begin by standardizing X_train. KNN is particularly sensitive to the scaling of variables, so we scale the timecourses to have 0 mean and unit variance."
   ]
  },
  {
   "cell_type": "code",
   "execution_count": 378,
   "metadata": {},
   "outputs": [
    {
     "data": {
      "text/html": [
       "<table class=\"dataframe\">\n",
       "<caption>A matrix: 6 × 201 of type dbl</caption>\n",
       "<thead>\n",
       "\t<tr><th></th><th scope=col>time.1</th><th scope=col>time.2</th><th scope=col>time.3</th><th scope=col>time.4</th><th scope=col>time.5</th><th scope=col>time.6</th><th scope=col>time.7</th><th scope=col>time.8</th><th scope=col>time.9</th><th scope=col>time.10</th><th scope=col>⋯</th><th scope=col>time.192</th><th scope=col>time.193</th><th scope=col>time.194</th><th scope=col>time.195</th><th scope=col>time.196</th><th scope=col>time.197</th><th scope=col>time.198</th><th scope=col>time.199</th><th scope=col>time.200</th><th scope=col>time.201</th></tr>\n",
       "</thead>\n",
       "<tbody>\n",
       "\t<tr><th scope=row>1</th><td> 0.1536913</td><td> 0.02292691</td><td>-0.02919115</td><td> 0.13239309</td><td> 0.40366240</td><td> 0.4719822</td><td> 0.2077028</td><td>-0.01978294</td><td> 0.067055951</td><td> 0.3782319</td><td>⋯</td><td>-0.9589760</td><td>-1.20218103</td><td>-1.3363436</td><td>-0.98621844</td><td> 0.01925183</td><td> 0.980176400</td><td> 1.37206338</td><td> 1.3606513</td><td> 1.2466256</td><td> 0.98951604</td></tr>\n",
       "\t<tr><th scope=row>2</th><td> 1.5435837</td><td> 1.17647146</td><td> 0.42732700</td><td>-0.07376236</td><td>-0.09815734</td><td>-0.1275218</td><td>-0.3035376</td><td>-0.71831044</td><td>-1.185989252</td><td>-1.5050295</td><td>⋯</td><td>-0.2387720</td><td> 0.04410322</td><td> 0.3116596</td><td> 0.37727068</td><td> 0.14059898</td><td>-0.006777981</td><td>-0.06949229</td><td>-0.3042397</td><td>-0.7872309</td><td>-1.24186836</td></tr>\n",
       "\t<tr><th scope=row>4</th><td>-0.9448542</td><td>-1.04390788</td><td>-0.72452736</td><td>-0.07965194</td><td> 0.51612560</td><td> 0.6533767</td><td> 0.1445884</td><td>-0.46772951</td><td>-0.815238822</td><td>-0.9442831</td><td>⋯</td><td>-0.4897120</td><td>-0.70781865</td><td>-0.7089181</td><td>-0.43197739</td><td>-0.09779135</td><td> 0.132503160</td><td> 0.24412545</td><td> 0.3025992</td><td> 0.4758706</td><td> 0.74487779</td></tr>\n",
       "\t<tr><th scope=row>5</th><td> 1.8942870</td><td> 2.14314113</td><td> 1.75304575</td><td> 0.79337654</td><td>-0.05170805</td><td>-0.4302261</td><td>-0.3377080</td><td>-0.14390036</td><td>-0.006812671</td><td> 0.1019945</td><td>⋯</td><td> 0.2816043</td><td> 0.50191116</td><td> 0.6898761</td><td> 0.82186963</td><td> 0.98603462</td><td> 1.153340671</td><td> 1.08424304</td><td> 0.8936198</td><td> 0.6337044</td><td> 0.08924728</td></tr>\n",
       "\t<tr><th scope=row>6</th><td>-0.8270696</td><td>-0.26114480</td><td> 0.65010491</td><td> 1.37224037</td><td> 1.20349784</td><td> 0.3796338</td><td>-0.5817737</td><td>-1.00320011</td><td>-0.662975844</td><td> 0.1749963</td><td>⋯</td><td>-0.2612646</td><td>-0.29373138</td><td>-0.1808249</td><td> 0.07823878</td><td> 0.42685154</td><td> 0.471833451</td><td> 0.32114544</td><td> 0.1598822</td><td> 0.1678387</td><td> 0.15455836</td></tr>\n",
       "\t<tr><th scope=row>7</th><td>-1.4690075</td><td>-0.97596621</td><td>-0.41498034</td><td>-0.23116733</td><td>-0.38202626</td><td>-0.6860955</td><td>-0.8805260</td><td>-0.95363998</td><td>-0.824696383</td><td>-0.5049805</td><td>⋯</td><td> 0.1329417</td><td>-0.15764123</td><td>-0.4769076</td><td>-0.94421875</td><td>-1.32992085</td><td>-1.384429817</td><td>-1.08131555</td><td>-0.7061356</td><td>-0.3549188</td><td>-0.03280464</td></tr>\n",
       "</tbody>\n",
       "</table>\n"
      ],
      "text/latex": [
       "A matrix: 6 × 201 of type dbl\n",
       "\\begin{tabular}{r|lllllllllllllllllllll}\n",
       "  & time.1 & time.2 & time.3 & time.4 & time.5 & time.6 & time.7 & time.8 & time.9 & time.10 & ⋯ & time.192 & time.193 & time.194 & time.195 & time.196 & time.197 & time.198 & time.199 & time.200 & time.201\\\\\n",
       "\\hline\n",
       "\t1 &  0.1536913 &  0.02292691 & -0.02919115 &  0.13239309 &  0.40366240 &  0.4719822 &  0.2077028 & -0.01978294 &  0.067055951 &  0.3782319 & ⋯ & -0.9589760 & -1.20218103 & -1.3363436 & -0.98621844 &  0.01925183 &  0.980176400 &  1.37206338 &  1.3606513 &  1.2466256 &  0.98951604\\\\\n",
       "\t2 &  1.5435837 &  1.17647146 &  0.42732700 & -0.07376236 & -0.09815734 & -0.1275218 & -0.3035376 & -0.71831044 & -1.185989252 & -1.5050295 & ⋯ & -0.2387720 &  0.04410322 &  0.3116596 &  0.37727068 &  0.14059898 & -0.006777981 & -0.06949229 & -0.3042397 & -0.7872309 & -1.24186836\\\\\n",
       "\t4 & -0.9448542 & -1.04390788 & -0.72452736 & -0.07965194 &  0.51612560 &  0.6533767 &  0.1445884 & -0.46772951 & -0.815238822 & -0.9442831 & ⋯ & -0.4897120 & -0.70781865 & -0.7089181 & -0.43197739 & -0.09779135 &  0.132503160 &  0.24412545 &  0.3025992 &  0.4758706 &  0.74487779\\\\\n",
       "\t5 &  1.8942870 &  2.14314113 &  1.75304575 &  0.79337654 & -0.05170805 & -0.4302261 & -0.3377080 & -0.14390036 & -0.006812671 &  0.1019945 & ⋯ &  0.2816043 &  0.50191116 &  0.6898761 &  0.82186963 &  0.98603462 &  1.153340671 &  1.08424304 &  0.8936198 &  0.6337044 &  0.08924728\\\\\n",
       "\t6 & -0.8270696 & -0.26114480 &  0.65010491 &  1.37224037 &  1.20349784 &  0.3796338 & -0.5817737 & -1.00320011 & -0.662975844 &  0.1749963 & ⋯ & -0.2612646 & -0.29373138 & -0.1808249 &  0.07823878 &  0.42685154 &  0.471833451 &  0.32114544 &  0.1598822 &  0.1678387 &  0.15455836\\\\\n",
       "\t7 & -1.4690075 & -0.97596621 & -0.41498034 & -0.23116733 & -0.38202626 & -0.6860955 & -0.8805260 & -0.95363998 & -0.824696383 & -0.5049805 & ⋯ &  0.1329417 & -0.15764123 & -0.4769076 & -0.94421875 & -1.32992085 & -1.384429817 & -1.08131555 & -0.7061356 & -0.3549188 & -0.03280464\\\\\n",
       "\\end{tabular}\n"
      ],
      "text/markdown": [
       "\n",
       "A matrix: 6 × 201 of type dbl\n",
       "\n",
       "| <!--/--> | time.1 | time.2 | time.3 | time.4 | time.5 | time.6 | time.7 | time.8 | time.9 | time.10 | ⋯ | time.192 | time.193 | time.194 | time.195 | time.196 | time.197 | time.198 | time.199 | time.200 | time.201 |\n",
       "|---|---|---|---|---|---|---|---|---|---|---|---|---|---|---|---|---|---|---|---|---|---|\n",
       "| 1 |  0.1536913 |  0.02292691 | -0.02919115 |  0.13239309 |  0.40366240 |  0.4719822 |  0.2077028 | -0.01978294 |  0.067055951 |  0.3782319 | ⋯ | -0.9589760 | -1.20218103 | -1.3363436 | -0.98621844 |  0.01925183 |  0.980176400 |  1.37206338 |  1.3606513 |  1.2466256 |  0.98951604 |\n",
       "| 2 |  1.5435837 |  1.17647146 |  0.42732700 | -0.07376236 | -0.09815734 | -0.1275218 | -0.3035376 | -0.71831044 | -1.185989252 | -1.5050295 | ⋯ | -0.2387720 |  0.04410322 |  0.3116596 |  0.37727068 |  0.14059898 | -0.006777981 | -0.06949229 | -0.3042397 | -0.7872309 | -1.24186836 |\n",
       "| 4 | -0.9448542 | -1.04390788 | -0.72452736 | -0.07965194 |  0.51612560 |  0.6533767 |  0.1445884 | -0.46772951 | -0.815238822 | -0.9442831 | ⋯ | -0.4897120 | -0.70781865 | -0.7089181 | -0.43197739 | -0.09779135 |  0.132503160 |  0.24412545 |  0.3025992 |  0.4758706 |  0.74487779 |\n",
       "| 5 |  1.8942870 |  2.14314113 |  1.75304575 |  0.79337654 | -0.05170805 | -0.4302261 | -0.3377080 | -0.14390036 | -0.006812671 |  0.1019945 | ⋯ |  0.2816043 |  0.50191116 |  0.6898761 |  0.82186963 |  0.98603462 |  1.153340671 |  1.08424304 |  0.8936198 |  0.6337044 |  0.08924728 |\n",
       "| 6 | -0.8270696 | -0.26114480 |  0.65010491 |  1.37224037 |  1.20349784 |  0.3796338 | -0.5817737 | -1.00320011 | -0.662975844 |  0.1749963 | ⋯ | -0.2612646 | -0.29373138 | -0.1808249 |  0.07823878 |  0.42685154 |  0.471833451 |  0.32114544 |  0.1598822 |  0.1678387 |  0.15455836 |\n",
       "| 7 | -1.4690075 | -0.97596621 | -0.41498034 | -0.23116733 | -0.38202626 | -0.6860955 | -0.8805260 | -0.95363998 | -0.824696383 | -0.5049805 | ⋯ |  0.1329417 | -0.15764123 | -0.4769076 | -0.94421875 | -1.32992085 | -1.384429817 | -1.08131555 | -0.7061356 | -0.3549188 | -0.03280464 |\n",
       "\n"
      ],
      "text/plain": [
       "  time.1     time.2      time.3      time.4      time.5      time.6    \n",
       "1  0.1536913  0.02292691 -0.02919115  0.13239309  0.40366240  0.4719822\n",
       "2  1.5435837  1.17647146  0.42732700 -0.07376236 -0.09815734 -0.1275218\n",
       "4 -0.9448542 -1.04390788 -0.72452736 -0.07965194  0.51612560  0.6533767\n",
       "5  1.8942870  2.14314113  1.75304575  0.79337654 -0.05170805 -0.4302261\n",
       "6 -0.8270696 -0.26114480  0.65010491  1.37224037  1.20349784  0.3796338\n",
       "7 -1.4690075 -0.97596621 -0.41498034 -0.23116733 -0.38202626 -0.6860955\n",
       "  time.7     time.8      time.9       time.10    ⋯ time.192   time.193   \n",
       "1  0.2077028 -0.01978294  0.067055951  0.3782319 ⋯ -0.9589760 -1.20218103\n",
       "2 -0.3035376 -0.71831044 -1.185989252 -1.5050295 ⋯ -0.2387720  0.04410322\n",
       "4  0.1445884 -0.46772951 -0.815238822 -0.9442831 ⋯ -0.4897120 -0.70781865\n",
       "5 -0.3377080 -0.14390036 -0.006812671  0.1019945 ⋯  0.2816043  0.50191116\n",
       "6 -0.5817737 -1.00320011 -0.662975844  0.1749963 ⋯ -0.2612646 -0.29373138\n",
       "7 -0.8805260 -0.95363998 -0.824696383 -0.5049805 ⋯  0.1329417 -0.15764123\n",
       "  time.194   time.195    time.196    time.197     time.198    time.199  \n",
       "1 -1.3363436 -0.98621844  0.01925183  0.980176400  1.37206338  1.3606513\n",
       "2  0.3116596  0.37727068  0.14059898 -0.006777981 -0.06949229 -0.3042397\n",
       "4 -0.7089181 -0.43197739 -0.09779135  0.132503160  0.24412545  0.3025992\n",
       "5  0.6898761  0.82186963  0.98603462  1.153340671  1.08424304  0.8936198\n",
       "6 -0.1808249  0.07823878  0.42685154  0.471833451  0.32114544  0.1598822\n",
       "7 -0.4769076 -0.94421875 -1.32992085 -1.384429817 -1.08131555 -0.7061356\n",
       "  time.200   time.201   \n",
       "1  1.2466256  0.98951604\n",
       "2 -0.7872309 -1.24186836\n",
       "4  0.4758706  0.74487779\n",
       "5  0.6337044  0.08924728\n",
       "6  0.1678387  0.15455836\n",
       "7 -0.3549188 -0.03280464"
      ]
     },
     "metadata": {},
     "output_type": "display_data"
    }
   ],
   "source": [
    "X_train_scaled <- scale(X_train)\n",
    "X_test_scaled <- scale(X_test)\n",
    "head(X_train_scaled)"
   ]
  },
  {
   "cell_type": "markdown",
   "metadata": {},
   "source": [
    "We then instantiate a number of KNN models with various values of *k* to determine an optimal value for *k*"
   ]
  },
  {
   "cell_type": "code",
   "execution_count": 379,
   "metadata": {},
   "outputs": [],
   "source": [
    "num_ks_to_test <- 100 # set number of values of k to test\n",
    "\n",
    "# initialize table to hold errors at various k\n",
    "k_table  <- data.frame(k = seq(1:num_ks_to_test),\n",
    "                     error = rep(NA, num_ks_to_test))\n",
    "\n",
    "# perform KNN with increasing values of k and store error\n",
    "for (k in seq(1:num_ks_to_test)) {\n",
    "    knn_fits <- knn(X_train_scaled, X_test_scaled, Y_train, k = k) # your knn function here\n",
    "    conf_df <- data.frame(predicted = knn_fits,actual = Y_train) # data frame of test predictions versus actual test\n",
    "    #print(table(conf_df))\n",
    "    k_table$error[k] <- 1 - mean(conf_df$predicted == conf_df$actual) #calculate error from conf_df and add to your output dataframe\n",
    "}"
   ]
  },
  {
   "cell_type": "markdown",
   "metadata": {},
   "source": [
    "Plotting the model performance at various values of k"
   ]
  },
  {
   "cell_type": "code",
   "execution_count": 381,
   "metadata": {},
   "outputs": [
    {
     "name": "stdout",
     "output_type": "stream",
     "text": [
      "[1] \"77 0.7575\"\n"
     ]
    },
    {
     "name": "stderr",
     "output_type": "stream",
     "text": [
      "\u001b[1m\u001b[22m`geom_smooth()` using method = 'loess' and formula = 'y ~ x'\n"
     ]
    },
    {
     "data": {
      "image/png": "[encoded data removed]",
      "text/plain": [
       "plot without title"
      ]
     },
     "metadata": {
      "image/png": {
       "height": 420,
       "width": 420
      }
     },
     "output_type": "display_data"
    }
   ],
   "source": [
    "# determine the optimal value of k based on model error\n",
    "optimal_k <- which.min(k_table$error)\n",
    "print(paste(optimal_k,k_table$error[optimal_k]))\n",
    "\n",
    "# plot the differences in model performance across values of k\n",
    "ggplot(k_table, aes(x=k,y=error)) +\n",
    "    geom_line() + \n",
    "    geom_smooth() +\n",
    "    theme_minimal() +\n",
    "    geom_vline(xintercept=optimal_k,linetype='dashed',color='red') +\n",
    "    geom_hline(yintercept=0.8,linetype='dashed',color='green') +\n",
    "    labs(title='KNN Model Error at increasing values of k', x='k', y='error')"
   ]
  },
  {
   "cell_type": "markdown",
   "metadata": {},
   "source": [
    "##### 5.1.2: Conclusion"
   ]
  },
  {
   "cell_type": "markdown",
   "metadata": {},
   "source": [
    "Overall, the optimal value of k seems to be 77 (red dashed line), though the associated model error is still 0.7625 or 76.25%, which is essentially chance performance for 5-way classification (green dashed line). The failure of KNN to properly classify the observations is likely due to KNN's strong sensitivity to model dimensionality.\n",
    "\n",
    "The fact that we have 201 variables and 400 observations could suggest that our KNN model has fallen prey to the 'curse of dimensionality', which essentially states that as p -> n, the model does not have sufficient neighbors to query in order to generate a prediction. This leads to high test set errors as observed in the above figure.\n",
    "\n",
    "There are multiple methods of remediating high dimensionality in models. In the following subsections, we will apply both principal components methods and sparsity constraints to reduce the model dimensionality and hopefully improve decoding performance."
   ]
  },
  {
   "cell_type": "markdown",
   "metadata": {},
   "source": [
    "#### 5.2: Dimensionality Reduction"
   ]
  },
  {
   "cell_type": "markdown",
   "metadata": {},
   "source": [
    "##### 5.2.1 Content"
   ]
  },
  {
   "cell_type": "markdown",
   "metadata": {},
   "source": [
    "Given the results of the KNN, it is likely that our model is overparameterized. One way of addressing high model dimensionality is principal components analysis (PCA). In PCA, we learn a set of component loadings *phi* that project our data into a lower dimensional subspace while retaining as much of the variability in the data as possible.\n",
    "\n",
    "We begin by examining the correlational structure in the time series. Note that only a subset of the 200 variables are shown to make local effects clearer."
   ]
  },
  {
   "cell_type": "code",
   "execution_count": 382,
   "metadata": {},
   "outputs": [
    {
     "data": {
      "image/png": "[encoded data removed]",
      "text/plain": [
       "plot without title"
      ]
     },
     "metadata": {
      "image/png": {
       "height": 420,
       "width": 420
      }
     },
     "output_type": "display_data"
    }
   ],
   "source": [
    "# generate correlation matrix for a subset the time series\n",
    "cor_timeseries <- cor(X_train[,1:50])\n",
    "\n",
    "# convert from wide to long format\n",
    "cor_timeseries <- melt(cor_timeseries)\n",
    "\n",
    "# visualize the correlational structure of the timeseries\n",
    "correlogram <- ggplot(cor_timeseries, aes(x=Var1,y=Var2, fill=value)) +\n",
    "  geom_tile() +\n",
    "  scale_x_discrete(guide = guide_axis(angle = 90)) +\n",
    "  scale_fill_gradient2(low='red',high='blue',limits = c(-1, 1)) +\n",
    "  labs(title='correlation heatmap of iEEG timecourse', x='', y='')\n",
    "\n",
    "correlogram"
   ]
  },
  {
   "cell_type": "markdown",
   "metadata": {},
   "source": [
    "Based on the correlogram, it seems that the primary structure in the time-series is that time-points are strongly correlated with nearby timepoints, with heavily reduced correlation with more distant time points. \n",
    "\n",
    "Next, we examine how many principal components are necessary to explain 95% of our data."
   ]
  },
  {
   "cell_type": "code",
   "execution_count": 383,
   "metadata": {},
   "outputs": [
    {
     "data": {
      "text/html": [
       "50"
      ],
      "text/latex": [
       "50"
      ],
      "text/markdown": [
       "50"
      ],
      "text/plain": [
       "[1] 50"
      ]
     },
     "metadata": {},
     "output_type": "display_data"
    },
    {
     "data": {
      "image/png": "[encoded data removed]",
      "text/plain": [
       "plot without title"
      ]
     },
     "metadata": {
      "image/png": {
       "height": 420,
       "width": 420
      }
     },
     "output_type": "display_data"
    }
   ],
   "source": [
    "# perform PCA on neural timeseries\n",
    "timeseries.pca <- princomp(X_train, cor = TRUE)\n",
    "timeseries.pca.out <- summary(timeseries.pca)\n",
    "\n",
    "# examine cumulative variance explained\n",
    "cum_var_exps <- cumsum(timeseries.pca.out$sdev^2 / sum(timeseries.pca.out$sdev^2))\n",
    "\n",
    "# calculate how many PCs are needed to explain 95% of variance\n",
    "threshold_pcs <- min(which(cum_var_exps > 0.95))\n",
    "threshold_pcs\n",
    "\n",
    "# plot cumulative variance explained\n",
    "ggplot(data.frame(x=seq(length(cum_var_exps)), y=cum_var_exps), aes(x, y)) +\n",
    "  geom_point() +\n",
    "  geom_hline(yintercept = 0.95, linetype='dashed', color='blue') +\n",
    "  geom_vline(xintercept = threshold_pcs, linetype='dashed', color='green') +\n",
    "  theme_minimal() +\n",
    "  labs(title='Cumulative Variance Explained',x='PCs',y='Cumulative Variance Explained')"
   ]
  },
  {
   "cell_type": "markdown",
   "metadata": {},
   "source": [
    "Based on the above figure, the minimum number of principal components required to explain 95% of the variance appears to be 50. This is a major reduction in model dimensionality compared to 202, which may help to ameliorate model performance.\n",
    "\n",
    "We are now able to perform Principal Components Regression (PCR) on our data, predicting stimulus category from the 50 components that explain 95% of the data."
   ]
  },
  {
   "cell_type": "code",
   "execution_count": 386,
   "metadata": {},
   "outputs": [
    {
     "data": {
      "text/html": [
       "8"
      ],
      "text/latex": [
       "8"
      ],
      "text/markdown": [
       "8"
      ],
      "text/plain": [
       "[1] 8"
      ]
     },
     "metadata": {},
     "output_type": "display_data"
    },
    {
     "data": {
      "image/png": "[encoded data removed]",
      "text/plain": [
       "Plot with title \"Mean Squared Error of Prediction vs Number of PCs\""
      ]
     },
     "metadata": {
      "image/png": {
       "height": 420,
       "width": 420
      }
     },
     "output_type": "display_data"
    }
   ],
   "source": [
    "# Adjust Y_train to be numeric for PCR\n",
    "train_data_pcr <- train_data\n",
    "train_data_pcr$label <- as.numeric(as.factor(train_data_pcr$label))\n",
    "\n",
    "# Fit PCR model to the data\n",
    "pcr.fit <- pcr(label~., data=train_data_pcr, scale = TRUE, ncomp = 50, validation=\"CV\")\n",
    "\n",
    "# plot mean squared error of prediction against number of PCs\n",
    "validationplot(pcr.fit, val.type=\"MSEP\", ylab = \"Mean Squared Error of Prediction\", \n",
    "              main = \"Mean Squared Error of Prediction vs Number of PCs\",\n",
    "              legend = 'topright') # use mean squared error\n",
    "\n",
    "# extract CV MSEP values\n",
    "mseps <- MSEP(pcr.fit, estimate = \"CV\") # only cross validated MSEP values\n",
    "mseps <- drop(mseps) # remove singleton dimension\n",
    "\n",
    "# find no. of PCs with minimum CV MSEP\n",
    "min_msep <- which.min(mseps[[1]])\n",
    "min_msep"
   ]
  },
  {
   "cell_type": "markdown",
   "metadata": {},
   "source": [
    "Based on the MSEP plot above, it seems that 7 components best explain the variance in stimulus category. The fact that this number is lower than the number of PCs necessary to reach 95% of variance in X suggests that there is a large degree of variability in the timeseries that is unrelated to stimulus category. \n",
    "\n",
    "Finally, we use the fitted PCR to predict our test set."
   ]
  },
  {
   "cell_type": "code",
   "execution_count": 387,
   "metadata": {},
   "outputs": [
    {
     "data": {
      "text/plain": [
       "Confusion Matrix and Statistics\n",
       "\n",
       "          Reference\n",
       "Prediction boat camera car guitar lamp\n",
       "    boat      0      0   0      0    0\n",
       "    camera    2      2   1      1    1\n",
       "    car      17     15  16     17   16\n",
       "    guitar    1      3   3      2    3\n",
       "    lamp      0      0   0      0    0\n",
       "\n",
       "Overall Statistics\n",
       "                                          \n",
       "               Accuracy : 0.2             \n",
       "                 95% CI : (0.1267, 0.2918)\n",
       "    No Information Rate : 0.2             \n",
       "    P-Value [Acc > NIR] : 0.5398          \n",
       "                                          \n",
       "                  Kappa : 0               \n",
       "                                          \n",
       " Mcnemar's Test P-Value : NA              \n",
       "\n",
       "Statistics by Class:\n",
       "\n",
       "                     Class: boat Class: camera Class: car Class: guitar\n",
       "Sensitivity                  0.0        0.1000     0.8000        0.1000\n",
       "Specificity                  1.0        0.9375     0.1875        0.8750\n",
       "Pos Pred Value               NaN        0.2857     0.1975        0.1667\n",
       "Neg Pred Value               0.8        0.8065     0.7895        0.7955\n",
       "Prevalence                   0.2        0.2000     0.2000        0.2000\n",
       "Detection Rate               0.0        0.0200     0.1600        0.0200\n",
       "Detection Prevalence         0.0        0.0700     0.8100        0.1200\n",
       "Balanced Accuracy            0.5        0.5188     0.4938        0.4875\n",
       "                     Class: lamp\n",
       "Sensitivity                  0.0\n",
       "Specificity                  1.0\n",
       "Pos Pred Value               NaN\n",
       "Neg Pred Value               0.8\n",
       "Prevalence                   0.2\n",
       "Detection Rate               0.0\n",
       "Detection Prevalence         0.0\n",
       "Balanced Accuracy            0.5"
      ]
     },
     "metadata": {},
     "output_type": "display_data"
    }
   ],
   "source": [
    "# train PCR model using number of PCs that explain 95% of variance\n",
    "pcr_model <- pcr(label~., data=train_data_pcr, scale = TRUE, ncomp = 7)\n",
    "\n",
    "# predict test set from fitted model\n",
    "preds <- predict(pcr_model, newdata = X_test, ncomp = 7)\n",
    "preds_factor <- factor(round(preds), levels=c(1,2,3,4,5), labels=c(\"boat\",\"camera\",\"car\",\"guitar\",\"lamp\"))\n",
    "\n",
    "# print confusion matrix\n",
    "confusionMatrix(preds_factor,as.factor(Y_test))"
   ]
  },
  {
   "cell_type": "markdown",
   "metadata": {},
   "source": [
    "##### 5.2.2: Conclusion"
   ]
  },
  {
   "cell_type": "markdown",
   "metadata": {},
   "source": [
    "Based on the confusion matrix, we again see that our model accuracy is essentially at chance performance. Puzzlingly, the model seems to heavily favor predicting cars compared to the other stimulus categories. This seems to suggest that the latent features that are picked up by the PCA overwhelmingly bias the model towards predicting cars."
   ]
  },
  {
   "cell_type": "markdown",
   "metadata": {},
   "source": [
    "#### 5.3: Regularized Classification (LASSO)"
   ]
  },
  {
   "cell_type": "markdown",
   "metadata": {},
   "source": [
    "##### 5.3.1: Content"
   ]
  },
  {
   "cell_type": "markdown",
   "metadata": {},
   "source": [
    "While PCA methods do reduce the dimensionality of models, they still rely on the entire set of features to generate the lower dimensional subspace. Sparsity constraint measures, such as regularized regression instead adjust the traditional linear regression approach with a penalty to 'weak' effects. LASSO regression applies a shrinkage penalty that can shrink weak coefficients all the way to 0, essentially selecting the 'best' of a set of correlated features X, like our timeseries.\n",
    "\n",
    "First, we fit a `cv.glmnet` function with `alpha` set to 1 to perform LASSO regression. This performs LASSO over a range of values for the sparsity parameter *lambda*, which allows us to find the optimal value for use in the final model."
   ]
  },
  {
   "cell_type": "code",
   "execution_count": 388,
   "metadata": {},
   "outputs": [
    {
     "data": {
      "text/html": [
       "0.0349482328736408"
      ],
      "text/latex": [
       "0.0349482328736408"
      ],
      "text/markdown": [
       "0.0349482328736408"
      ],
      "text/plain": [
       "[1] 0.03494823"
      ]
     },
     "metadata": {},
     "output_type": "display_data"
    }
   ],
   "source": [
    "# convert variable types to conform with glmnet\n",
    "Y_train_glmnet <- factor(Y_train)\n",
    "Y_test_glmnet <- factor(Y_test)\n",
    "X_train_glmnet <- as.matrix(X_train)\n",
    "X_test_glmnet <- as.matrix(X_test)\n",
    "\n",
    "# perform cross-validated LASSO to find optimal sparsity parameter lambda\n",
    "cv_glm_fit <- cv.glmnet(X_train_glmnet, Y_train_glmnet, family = \"multinomial\", alpha = 1)\n",
    "\n",
    "# extract optimal value for lambda\n",
    "lambda <- cv_glm_fit$lambda.min\n",
    "lambda"
   ]
  },
  {
   "cell_type": "code",
   "execution_count": 389,
   "metadata": {},
   "outputs": [
    {
     "data": {
      "text/plain": [
       "Confusion Matrix and Statistics\n",
       "\n",
       "          Reference\n",
       "Prediction boat camera car guitar lamp\n",
       "    boat      2      4   4      8    2\n",
       "    camera    3      6   4      6    1\n",
       "    car       4      6   1      5    4\n",
       "    guitar    3      7   2      3    5\n",
       "    lamp      6      1   2      8    3\n",
       "\n",
       "Overall Statistics\n",
       "                                          \n",
       "               Accuracy : 0.15            \n",
       "                 95% CI : (0.0865, 0.2353)\n",
       "    No Information Rate : 0.3             \n",
       "    P-Value [Acc > NIR] : 0.9998          \n",
       "                                          \n",
       "                  Kappa : -0.0625         \n",
       "                                          \n",
       " Mcnemar's Test P-Value : 0.6739          \n",
       "\n",
       "Statistics by Class:\n",
       "\n",
       "                     Class: boat Class: camera Class: car Class: guitar\n",
       "Sensitivity               0.1111        0.2500    0.07692        0.1000\n",
       "Specificity               0.7805        0.8158    0.78161        0.7571\n",
       "Pos Pred Value            0.1000        0.3000    0.05000        0.1500\n",
       "Neg Pred Value            0.8000        0.7750    0.85000        0.6625\n",
       "Prevalence                0.1800        0.2400    0.13000        0.3000\n",
       "Detection Rate            0.0200        0.0600    0.01000        0.0300\n",
       "Detection Prevalence      0.2000        0.2000    0.20000        0.2000\n",
       "Balanced Accuracy         0.4458        0.5329    0.42927        0.4286\n",
       "                     Class: lamp\n",
       "Sensitivity                 0.20\n",
       "Specificity                 0.80\n",
       "Pos Pred Value              0.15\n",
       "Neg Pred Value              0.85\n",
       "Prevalence                  0.15\n",
       "Detection Rate              0.03\n",
       "Detection Prevalence        0.20\n",
       "Balanced Accuracy           0.50"
      ]
     },
     "metadata": {},
     "output_type": "display_data"
    }
   ],
   "source": [
    "# fit a LASSO regression with the optimal sparsity parameter\n",
    "LASSO_fit <- glmnet(X_train_glmnet, Y_train_glmnet, family = 'multinomial', alpha = 1, lambda = lambda)\n",
    "\n",
    "# predict test set using fitted LASSO\n",
    "glmnet_preds <- predict(LASSO_fit, newx = X_test_glmnet, s = lambda, type = 'class')\n",
    "\n",
    "# print confusion matrix\n",
    "confusionMatrix(Y_test_glmnet,as.factor(glmnet_preds))"
   ]
  },
  {
   "cell_type": "markdown",
   "metadata": {},
   "source": [
    "##### 5.3.2: Conclusion"
   ]
  },
  {
   "cell_type": "markdown",
   "metadata": {},
   "source": [
    "Similarly to the PCR model, the LASSO model does not seem to be able to predict stimulus category from the regularized timeseries, failing to even reach chance accuracy. Unlike the PCR, the confusion matrix from the LASSO does not seem to favor a particular class. This seems to suggest that even with weak effects forced out of the model, the 'best' set of variables is not predictive of stimulus category."
   ]
  },
  {
   "cell_type": "markdown",
   "metadata": {},
   "source": [
    "---"
   ]
  },
  {
   "cell_type": "markdown",
   "metadata": {},
   "source": [
    "### 6. Conclusions"
   ]
  },
  {
   "cell_type": "markdown",
   "metadata": {},
   "source": [
    "None of the three approaches tested were able to decode stimulus category from the iEEG timecourses in dorsal cortex. This failure to replicate the findings in (Ayzenberg & Behrmann, 2022) could be due to a number of different factors. \n",
    "\n",
    "1. It could be the case that an error or set of errors was made in the preprocessing of the data. The process of collecting and processing iEEG data involves a large number of steps, and even a small mistake (such as poor referencing or using incorrect timing information) can confound any further analysis of the data. \n",
    "2. The 16 electrode contacts examined in this study are a sample of the total 162. These electrodes were selected due to their positioning in dorsal cortex, but it is entirely possible that the electrodes have been mislocalized. The process of localizing intracranial electrodes in space is done manually with documentation from the neurology team. If the data is incorrect or corrupted, it is entirely possible that these electrodes are actually located in cortex that is not visually responsive.\n",
    "3. It is also possible that these electrodes are not mislocalized and that dorsal cortex as reflected in iEEG activity does not support category discrimination. The purpose of re-examining fMRI findings with high-resolution electrophysiological data is to test prior theory at a finer scale.\n",
    "\n",
    "This analysis is by no means a final answer to whether or not dorsal cortex plays a role in object recognition. Further analyses of all electrodes within this patient and analyses across multiple patients may reveal effects that were not observable within the context of this data. Improving our nderstanding the roles of dorsal and ventral cortex in facilitating object recognition helps visual neuroscience researchers along the path to understanding how our cognitive abilities are realized in the brain."
   ]
  },
  {
   "cell_type": "markdown",
   "metadata": {},
   "source": [
    "---"
   ]
  },
  {
   "cell_type": "markdown",
   "metadata": {},
   "source": [
    "### 7. References"
   ]
  },
  {
   "cell_type": "markdown",
   "metadata": {},
   "source": [
    "1. Ayzenberg, V., &amp; Behrmann, M. (2022). The dorsal visual pathway represents object-centered spatial relations for object recognition. The Journal of Neuroscience, 42(23), 4693–4710. https://doi.org/10.1523/jneurosci.2257-21.2022 \n",
    "2. Bracci, S., &amp; Op de Beeck, H. (2016). Dissociations and associations between shape and category representations in the two visual pathways. The Journal of Neuroscience, 36(2), 432–444. https://doi.org/10.1523/jneurosci.2314-15.2016 \n",
    "3. Freud, E., Culham, J. C., Plaut, D. C., &amp; Behrmann, M. (2017). The large-scale organization of shape processing in the ventral and dorsal pathways. ELife, 6. https://doi.org/10.7554/elife.27576 \n",
    "4. Magnotti, J. F., Wang, Z., &amp; Beauchamp, M. S. (2020). Rave: Comprehensive open-source software for reproducible analysis and visualization of intracranial EEG data. NeuroImage, 223, 117341. https://doi.org/10.1016/j.neuroimage.2020.117341 \n",
    "5. Mishkin, M., Ungerleider, L. G., &amp; Macko, K. A. (1983). Object vision and spatial vision: Two cortical pathways. Trends in Neurosciences, 6, 414–417. https://doi.org/10.1016/0166-2236(83)90190-x \n",
    "6. Ungerleider, L. (1994). 'what' and 'where' in the human brain. Current Opinion in Neurobiology, 4(2), 157–165. https://doi.org/10.1016/0959-4388(94)90066-3 "
   ]
  }
 ],
 "metadata": {
  "kernelspec": {
   "display_name": "R",
   "language": "R",
   "name": "ir"
  },
  "language_info": {
   "codemirror_mode": "r",
   "file_extension": ".r",
   "mimetype": "text/x-r-source",
   "name": "R",
   "pygments_lexer": "r",
   "version": "4.2.1"
  }
 },
 "nbformat": 4,
 "nbformat_minor": 2
}
